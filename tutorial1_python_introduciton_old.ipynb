{
 "cells": [
  {
   "cell_type": "markdown",
   "id": "e852312b-05e4-44d1-a48d-d56d7a96089f",
   "metadata": {},
   "source": [
    "# Introduction to Python"
   ]
  },
  {
   "cell_type": "markdown",
   "id": "17a27463-7c98-44fd-97aa-70509198ca4d",
   "metadata": {},
   "source": [
    "## Outline\n",
    "\n",
    "* Setup ** do this\n",
    "    * handle cases where users are not allowed to install without admin access (do dry run, with support for older computers). \n",
    "    * Python installation\n",
    "    * Jupyter installation\n",
    "    * Library installation\n",
    "      * Dependency management https://stackoverflow.com/questions/39857289/should-conda-or-conda-forge-be-used-for-python-environments\n",
    "    * GWDG Jupyter instance https://jupyter-cloud.gwdg.de/\n",
    "* Python basics\n",
    "    * basic calculator like operations\n",
    "    * some data structures\n",
    "    * loops\n",
    "    * functions"
   ]
  },
  {
   "cell_type": "markdown",
   "id": "31740805-0448-4c31-93c5-d6dcee19f88f",
   "metadata": {
    "id": "XAVU39T3pEU7"
   },
   "source": [
    "## Getting Started"
   ]
  },
  {
   "cell_type": "markdown",
   "id": "c0fb2b61-b2ae-4e69-9ad4-989ef6b0af69",
   "metadata": {
    "id": "5M4RzS3bdO4K"
   },
   "source": [
    "To follow along and run the labs in this course, you will need two things:\n",
    "\n",
    "* An installation of `Python3`, which is the specific version of `Python`  used in the labs.\n",
    "* Access to  `Jupyter`, a very popular `Python` interface that runs code through a file called a *notebook*."
   ]
  },
  {
   "cell_type": "markdown",
   "id": "125e46f9-f3aa-4039-a064-ce11d4de9279",
   "metadata": {
    "id": "-pC9fNl3dfMA"
   },
   "source": [
    "You can download and install  `Python3`   by following the instructions available at [anaconda.com](http://anaconda.com)."
   ]
  },
  {
   "cell_type": "markdown",
   "id": "efc30dd7-5a5a-4f52-8284-375a2e91f717",
   "metadata": {
    "id": "d4Q80xIndkrV"
   },
   "source": [
    " There are a number of ways to get access to `Jupyter`. Here are just a few:\n",
    "\n",
    " * Using Google's `Colaboratory` service: [colab.research.google.com/](https://colab.research.google.com/).\n",
    " * Using Kaggle: [kaggle.com](https://www.kaggle.com/)\n",
    " * Using `JupyterHub`, available at [jupyter.org/hub](https://jupyter.org/hub).\n",
    " * Using your own `jupyter` installation. Installation instructions are available at [jupyter.org/install](https://jupyter.org/install)."
   ]
  },
  {
   "cell_type": "markdown",
   "id": "0720ce89-bd1b-4ad2-9e87-9f7d0c99c4e8",
   "metadata": {
    "id": "53fkNqTyfAYr"
   },
   "source": [
    "## Hello \"World\"\n",
    "\n",
    "One of the simplest (and most important!) tasks you can ask a computer to do is to print a message.\n",
    "In Python, we ask a computer to print a message for us by writing `print()` and putting the message inside the parentheses and enclosed in quotation marks"
   ]
  },
  {
   "cell_type": "code",
   "execution_count": null,
   "id": "10170bb8-de52-40b6-b693-c7a93a3f5a53",
   "metadata": {
    "id": "8RVpzaE6dXZt"
   },
   "outputs": [],
   "source": [
    "print(\"Hello world!\")"
   ]
  },
  {
   "cell_type": "markdown",
   "id": "c614af43-434f-487d-ada1-94abdbe04903",
   "metadata": {},
   "source": [
    "## Python Basics"
   ]
  },
  {
   "cell_type": "markdown",
   "id": "7fe7557f-3ab9-4dd4-bdcb-443d2fa77ae9",
   "metadata": {},
   "source": [
    "#### Expressions"
   ]
  },
  {
   "cell_type": "code",
   "execution_count": 9,
   "id": "85ab8861-0d15-4727-a748-e1af61720415",
   "metadata": {},
   "outputs": [
    {
     "name": "stdout",
     "output_type": "stream",
     "text": [
      "24\n"
     ]
    }
   ],
   "source": [
    "print(6 * 4)"
   ]
  },
  {
   "cell_type": "code",
   "execution_count": 10,
   "id": "dfc7ee29-5715-4f3d-b6cc-0ee3e6aeaf30",
   "metadata": {},
   "outputs": [
    {
     "name": "stdout",
     "output_type": "stream",
     "text": [
      "20\n"
     ]
    }
   ],
   "source": [
    "print(2 + 3 * 6)"
   ]
  },
  {
   "cell_type": "code",
   "execution_count": 4,
   "id": "15916f96-f2e9-49d3-a62f-2434d1c63cfa",
   "metadata": {},
   "outputs": [
    {
     "name": "stdout",
     "output_type": "stream",
     "text": [
      "1024\n"
     ]
    }
   ],
   "source": [
    "print(2 ** 10)"
   ]
  },
  {
   "cell_type": "code",
   "execution_count": 9,
   "id": "ed9b7b15-4a42-4b1c-85eb-2f92fe5aef0f",
   "metadata": {},
   "outputs": [
    {
     "name": "stdout",
     "output_type": "stream",
     "text": [
      "1.4142135623730951\n"
     ]
    }
   ],
   "source": [
    "# how to do sqrt?\n",
    "\n",
    "import math\n",
    "print(math.sqrt(2))"
   ]
  },
  {
   "cell_type": "markdown",
   "id": "05464e38-d6b2-4ff0-97d5-67140259c1da",
   "metadata": {},
   "source": [
    "### Why so convoluted?\n",
    "Python’s apparent complexity is due to its origins as a general-purpose programming language rather than one specifically designed for numerical or data analysis tasks. When Python was first developed, its primary goal was simplicity and readability for a wide range of applications, not specialized mathematical computations. \n",
    "\n",
    "Over time, the Python community grew and it got libraries to fields like data analysis and scientific computing. This is why, it can feel less intuitive compared to languages that are purpose-built for mathematical tasks, where such functions are often built-in."
   ]
  },
  {
   "cell_type": "code",
   "execution_count": 10,
   "id": "943b9825-a927-4ec0-bc1c-d37b13527845",
   "metadata": {},
   "outputs": [
    {
     "data": {
      "text/plain": [
       "3.141592653589793"
      ]
     },
     "execution_count": 10,
     "metadata": {},
     "output_type": "execute_result"
    }
   ],
   "source": [
    "math.pi"
   ]
  },
  {
   "cell_type": "code",
   "execution_count": 6,
   "id": "8ce44377-4cc5-4600-978c-869596144786",
   "metadata": {},
   "outputs": [
    {
     "data": {
      "text/plain": [
       "1.5"
      ]
     },
     "execution_count": 6,
     "metadata": {},
     "output_type": "execute_result"
    }
   ],
   "source": [
    "3 / 2"
   ]
  },
  {
   "cell_type": "code",
   "execution_count": 7,
   "id": "f95d055f-ec16-4eec-8ef7-94531b86bc93",
   "metadata": {},
   "outputs": [
    {
     "data": {
      "text/plain": [
       "1"
      ]
     },
     "execution_count": 7,
     "metadata": {},
     "output_type": "execute_result"
    }
   ],
   "source": [
    "3 // 2"
   ]
  },
  {
   "cell_type": "code",
   "execution_count": 12,
   "id": "8a93f012-b4c9-4011-89c8-134a6d57ccd4",
   "metadata": {},
   "outputs": [
    {
     "data": {
      "text/plain": [
       "0.30000000000000004"
      ]
     },
     "execution_count": 12,
     "metadata": {},
     "output_type": "execute_result"
    }
   ],
   "source": [
    "0.1 + 0.1 + 0.1"
   ]
  },
  {
   "cell_type": "markdown",
   "id": "f4b47d48-ed30-4fe2-a69c-476970970f01",
   "metadata": {},
   "source": [
    "#### Ex: Volume of a sphere with radius 5 metres?\n",
    "\n",
    "\n",
    "volume = $\\frac{4}{3}\\pi r^3$"
   ]
  },
  {
   "cell_type": "code",
   "execution_count": null,
   "id": "3be044a7-3391-4513-a2df-69e689aa2939",
   "metadata": {},
   "outputs": [],
   "source": []
  },
  {
   "cell_type": "markdown",
   "id": "a39af3ae-f679-4110-9e82-641872e2b246",
   "metadata": {},
   "source": [
    "#### Variables\n",
    "\n",
    "Variable assignment is not the same as mathematical equality"
   ]
  },
  {
   "cell_type": "code",
   "execution_count": 1,
   "id": "2fa6175e-2311-46e7-8e6f-43baeb6eb20b",
   "metadata": {},
   "outputs": [],
   "source": [
    "# on the Left is the variable name, on the Right you have an expression\n",
    "number = 3"
   ]
  },
  {
   "cell_type": "code",
   "execution_count": 2,
   "id": "d7cdeb45-38de-4aef-b483-f4ad61b1ea18",
   "metadata": {},
   "outputs": [],
   "source": [
    "number = number + 5"
   ]
  },
  {
   "cell_type": "code",
   "execution_count": 3,
   "id": "cd7159da-82a5-43bd-9236-5deb14149f44",
   "metadata": {},
   "outputs": [
    {
     "name": "stdout",
     "output_type": "stream",
     "text": [
      "8\n"
     ]
    }
   ],
   "source": [
    "print(number)"
   ]
  },
  {
   "cell_type": "code",
   "execution_count": 7,
   "id": "2b116d69-447a-4482-ad5f-7c3a3bd955d6",
   "metadata": {},
   "outputs": [
    {
     "name": "stdout",
     "output_type": "stream",
     "text": [
      "8\n"
     ]
    }
   ],
   "source": [
    "print(number)"
   ]
  },
  {
   "cell_type": "code",
   "execution_count": 13,
   "id": "acb735cc-4846-46fb-b70a-31673a9c32b7",
   "metadata": {},
   "outputs": [
    {
     "name": "stdout",
     "output_type": "stream",
     "text": [
      "helloworld\n"
     ]
    }
   ],
   "source": [
    "# Concatenation\n",
    "\n",
    "hello = \"hello\"\n",
    "world = \"world\"\n",
    "\n",
    "print(hello + world)\n",
    "# What happens if we replace + by other operators"
   ]
  },
  {
   "cell_type": "markdown",
   "id": "b1eb5fc0-d731-4975-9790-4816a144173a",
   "metadata": {},
   "source": [
    "#### Ex: Make the computer greet you"
   ]
  },
  {
   "cell_type": "code",
   "execution_count": 16,
   "id": "7a8424f6-cd06-4b26-9680-84ca53960e78",
   "metadata": {},
   "outputs": [],
   "source": [
    "name = \"<your name here>\"\n",
    "### Your code below here:\n",
    "\n",
    "\n",
    "### The output should look like: Hello <your name here>, Welcome to the first Tutorial!"
   ]
  },
  {
   "cell_type": "markdown",
   "id": "f48c8e4c-bbf1-4709-827e-e40e04981303",
   "metadata": {},
   "source": [
    "### Data strucutres"
   ]
  },
  {
   "cell_type": "code",
   "execution_count": 16,
   "id": "d4a210e0-151c-4095-afe7-fbc9fb5cb67b",
   "metadata": {},
   "outputs": [],
   "source": [
    "simple_list = [1, 2, 3, 4, 5]\n",
    "simple_dictionary = {\"mercury\": 1, \"venus\": 2, \"earth\": 3, \"mars\": 4, \"jupiter\": 5, \"saturn\": 6, \"uranus\": 7, \"neptune\": 8, \"pluto\": 9}"
   ]
  },
  {
   "cell_type": "code",
   "execution_count": 17,
   "id": "fa0ca292-214b-4654-86d0-772ad722cd35",
   "metadata": {},
   "outputs": [
    {
     "name": "stdout",
     "output_type": "stream",
     "text": [
      "2\n"
     ]
    }
   ],
   "source": [
    "print(simple_list[1])"
   ]
  },
  {
   "cell_type": "code",
   "execution_count": 18,
   "id": "41f91989-a5b6-4629-91c4-eced519a1bb9",
   "metadata": {},
   "outputs": [
    {
     "name": "stdout",
     "output_type": "stream",
     "text": [
      "1\n"
     ]
    }
   ],
   "source": [
    "# What would this be equal to?\n",
    "print(simple_list[0])"
   ]
  },
  {
   "cell_type": "code",
   "execution_count": 19,
   "id": "c004bc5c-ffb1-41f3-93d5-ad0418228821",
   "metadata": {},
   "outputs": [
    {
     "name": "stdout",
     "output_type": "stream",
     "text": [
      "5\n"
     ]
    }
   ],
   "source": [
    "# negative indices, possible source of errors\n",
    "print(simple_list[-1])"
   ]
  },
  {
   "cell_type": "code",
   "execution_count": 20,
   "id": "c6f61008-defd-4bb7-81db-2cc7d748c233",
   "metadata": {},
   "outputs": [
    {
     "ename": "IndexError",
     "evalue": "list index out of range",
     "output_type": "error",
     "traceback": [
      "\u001b[0;31m---------------------------------------------------------------------------\u001b[0m",
      "\u001b[0;31mIndexError\u001b[0m                                Traceback (most recent call last)",
      "Cell \u001b[0;32mIn[20], line 1\u001b[0m\n\u001b[0;32m----> 1\u001b[0m \u001b[38;5;28mprint\u001b[39m(simple_list[\u001b[38;5;241m5\u001b[39m])\n",
      "\u001b[0;31mIndexError\u001b[0m: list index out of range"
     ]
    }
   ],
   "source": [
    "print(simple_list[5])"
   ]
  },
  {
   "cell_type": "code",
   "execution_count": 21,
   "id": "81ab4a84-c542-44e0-92b8-3787ce7a6e9f",
   "metadata": {},
   "outputs": [
    {
     "name": "stdout",
     "output_type": "stream",
     "text": [
      "[5, 4, 3, 2, 1]\n"
     ]
    }
   ],
   "source": [
    "# how to reverse a list?\n",
    "\n",
    "print(simple_list[::-1])"
   ]
  },
  {
   "cell_type": "code",
   "execution_count": null,
   "id": "eff00d8a-ab59-46d6-be93-48cbdb1d64fa",
   "metadata": {},
   "outputs": [],
   "source": [
    "start = 1\n",
    "end = 2\n",
    "step = 1\n",
    "print(simple_list[start:end:step])"
   ]
  },
  {
   "cell_type": "code",
   "execution_count": 21,
   "id": "b55a0760-8677-43fc-8dec-49e7af2faff3",
   "metadata": {},
   "outputs": [
    {
     "name": "stdout",
     "output_type": "stream",
     "text": [
      "2\n"
     ]
    }
   ],
   "source": [
    "print(simple_dictionary[\"venus\"])"
   ]
  },
  {
   "cell_type": "markdown",
   "id": "f62d7a3e-24fd-4577-8014-a4596439b2f8",
   "metadata": {},
   "source": [
    "### Ex: Add the position of mars and earth using the dictionary"
   ]
  },
  {
   "cell_type": "code",
   "execution_count": 22,
   "id": "7d407840-c194-4196-860e-0cd62c1ac67d",
   "metadata": {},
   "outputs": [],
   "source": [
    "### Expected output: 7\n"
   ]
  },
  {
   "cell_type": "markdown",
   "id": "663723b6-ce05-4771-8a40-90f91498167c",
   "metadata": {},
   "source": [
    "### Control Flow \n",
    "Note indentation"
   ]
  },
  {
   "cell_type": "code",
   "execution_count": 18,
   "id": "5ea1e4fe-5d15-4093-a8a4-95beca310a17",
   "metadata": {},
   "outputs": [
    {
     "name": "stdout",
     "output_type": "stream",
     "text": [
      "System unlocked\n"
     ]
    }
   ],
   "source": [
    "# Simple password checker\n",
    "password = \"very secret password that lives on the moon\"\n",
    "\n",
    "if password == \"very secret password that lives on the moon\":\n",
    "    print(\"System unlocked\")\n",
    "else:\n",
    "    print(\"Access Denied\")"
   ]
  },
  {
   "cell_type": "code",
   "execution_count": 23,
   "id": "3d651acf-ee14-4f4a-bc62-38362ff0b19e",
   "metadata": {},
   "outputs": [
    {
     "name": "stdout",
     "output_type": "stream",
     "text": [
      "1\n",
      "2\n",
      "3\n",
      "4\n",
      "5\n"
     ]
    }
   ],
   "source": [
    "for number in simple_list:\n",
    "    print(number)"
   ]
  },
  {
   "cell_type": "code",
   "execution_count": 25,
   "id": "4bb247c7-99d8-4b14-83c7-dc96acffedbe",
   "metadata": {},
   "outputs": [
    {
     "name": "stdout",
     "output_type": "stream",
     "text": [
      "mercury\n",
      "venus\n",
      "earth\n",
      "mars\n",
      "jupiter\n",
      "saturn\n",
      "uranus\n",
      "neptune\n",
      "pluto\n"
     ]
    }
   ],
   "source": [
    "longer_list = [\"mercury\", \"venus\", \"earth\", \"mars\", \"jupiter\", \"saturn\", \"uranus\", \"neptune\", \"pluto\"]\n",
    "for planet in longer_list:\n",
    "    print(planet)"
   ]
  },
  {
   "cell_type": "code",
   "execution_count": 26,
   "id": "067b33ed-09f7-4a8a-94b2-24b3db60c65c",
   "metadata": {},
   "outputs": [
    {
     "name": "stdout",
     "output_type": "stream",
     "text": [
      "mercury\n",
      "venus\n",
      "earth\n",
      "mars\n",
      "jupiter\n",
      "7\n",
      "4\n",
      "1\n"
     ]
    }
   ],
   "source": [
    "complicated_list = [\"mercury\", \"venus\", \"earth\", \"mars\", \"jupiter\", 7, 4, 1]\n",
    "for item in complicated_list:\n",
    "    print(item)"
   ]
  },
  {
   "cell_type": "markdown",
   "id": "b33426d2-0200-4ffe-b47c-f148434c39c7",
   "metadata": {},
   "source": [
    "## Creating functions"
   ]
  },
  {
   "cell_type": "markdown",
   "id": "9f4e1fd9-2d7e-4a60-816f-6f9734dee907",
   "metadata": {},
   "source": [
    "## Introduce classes\n",
    "What is a class?\n",
    "How is it OOP?"
   ]
  },
  {
   "cell_type": "markdown",
   "id": "623800db-5434-433f-867f-9c661bf4d215",
   "metadata": {},
   "source": [
    "## Shorthands"
   ]
  },
  {
   "cell_type": "code",
   "execution_count": 22,
   "id": "1850237a-4cb4-4062-bc98-915cd9c071fb",
   "metadata": {},
   "outputs": [],
   "source": [
    "number += 3\n",
    "number = number + 3"
   ]
  },
  {
   "cell_type": "code",
   "execution_count": 24,
   "id": "0c3312dc-b716-408d-83c2-437831c7208e",
   "metadata": {},
   "outputs": [
    {
     "name": "stdout",
     "output_type": "stream",
     "text": [
      "5\n"
     ]
    }
   ],
   "source": [
    "y = lambda x: x + 3\n",
    "print(y(2))"
   ]
  },
  {
   "cell_type": "code",
   "execution_count": 26,
   "id": "c6dd18dd-84b1-4b10-a27e-8854942fe02d",
   "metadata": {},
   "outputs": [
    {
     "name": "stdout",
     "output_type": "stream",
     "text": [
      "2\n"
     ]
    }
   ],
   "source": [
    "# code with zip, enumerate\n",
    "y = 3 if False else 2\n",
    "print(y)"
   ]
  },
  {
   "cell_type": "markdown",
   "id": "a9d86fb3-6d7d-4f63-b54b-663c7042540f",
   "metadata": {},
   "source": [
    "## Explaining packages, modules and imports\n",
    "\n"
   ]
  },
  {
   "cell_type": "markdown",
   "id": "c5a9149c-5dbf-4946-b109-330c119da82c",
   "metadata": {},
   "source": [
    "## Generate random numbers"
   ]
  },
  {
   "cell_type": "code",
   "execution_count": 1,
   "id": "2e96c5c2-5d86-4f82-9a4b-0496bd76ebd9",
   "metadata": {},
   "outputs": [],
   "source": [
    "import random"
   ]
  },
  {
   "cell_type": "code",
   "execution_count": 5,
   "id": "f39e8afc-19e8-4449-a183-c10b171d6977",
   "metadata": {},
   "outputs": [
    {
     "data": {
      "text/plain": [
       "6"
      ]
     },
     "execution_count": 5,
     "metadata": {},
     "output_type": "execute_result"
    }
   ],
   "source": [
    "random.randint(2, 7)"
   ]
  },
  {
   "cell_type": "code",
   "execution_count": 6,
   "id": "501a2781-fb32-470e-b154-16d34f835643",
   "metadata": {},
   "outputs": [
    {
     "name": "stdout",
     "output_type": "stream",
     "text": [
      "Help on method randint in module random:\n",
      "\n",
      "randint(a, b) method of random.Random instance\n",
      "    Return random integer in range [a, b], including both end points.\n",
      "\n"
     ]
    }
   ],
   "source": [
    "help(random.randint)"
   ]
  },
  {
   "cell_type": "code",
   "execution_count": 7,
   "id": "b22f391a-b6b6-42f0-9078-d2b11499439c",
   "metadata": {},
   "outputs": [
    {
     "data": {
      "text/plain": [
       "['BPF',\n",
       " 'LOG4',\n",
       " 'NV_MAGICCONST',\n",
       " 'RECIP_BPF',\n",
       " 'Random',\n",
       " 'SG_MAGICCONST',\n",
       " 'SystemRandom',\n",
       " 'TWOPI',\n",
       " '_ONE',\n",
       " '_Sequence',\n",
       " '__all__',\n",
       " '__builtins__',\n",
       " '__cached__',\n",
       " '__doc__',\n",
       " '__file__',\n",
       " '__loader__',\n",
       " '__name__',\n",
       " '__package__',\n",
       " '__spec__',\n",
       " '_accumulate',\n",
       " '_acos',\n",
       " '_bisect',\n",
       " '_ceil',\n",
       " '_cos',\n",
       " '_e',\n",
       " '_exp',\n",
       " '_fabs',\n",
       " '_floor',\n",
       " '_index',\n",
       " '_inst',\n",
       " '_isfinite',\n",
       " '_lgamma',\n",
       " '_log',\n",
       " '_log2',\n",
       " '_os',\n",
       " '_pi',\n",
       " '_random',\n",
       " '_repeat',\n",
       " '_sha512',\n",
       " '_sin',\n",
       " '_sqrt',\n",
       " '_test',\n",
       " '_test_generator',\n",
       " '_urandom',\n",
       " '_warn',\n",
       " 'betavariate',\n",
       " 'binomialvariate',\n",
       " 'choice',\n",
       " 'choices',\n",
       " 'expovariate',\n",
       " 'gammavariate',\n",
       " 'gauss',\n",
       " 'getrandbits',\n",
       " 'getstate',\n",
       " 'lognormvariate',\n",
       " 'normalvariate',\n",
       " 'paretovariate',\n",
       " 'randbytes',\n",
       " 'randint',\n",
       " 'random',\n",
       " 'randrange',\n",
       " 'sample',\n",
       " 'seed',\n",
       " 'setstate',\n",
       " 'shuffle',\n",
       " 'triangular',\n",
       " 'uniform',\n",
       " 'vonmisesvariate',\n",
       " 'weibullvariate']"
      ]
     },
     "execution_count": 7,
     "metadata": {},
     "output_type": "execute_result"
    }
   ],
   "source": [
    "dir(random)"
   ]
  },
  {
   "cell_type": "markdown",
   "id": "f78f27d5-8110-4f17-bc64-c2fb93f1729c",
   "metadata": {},
   "source": [
    "## Pandas dataframes\n",
    "\n",
    "Accessing values and modifying"
   ]
  },
  {
   "cell_type": "markdown",
   "id": "17f6708f-7cff-4090-9482-93054700a972",
   "metadata": {},
   "source": [
    "## Data visualisation (matplotlib)"
   ]
  },
  {
   "cell_type": "code",
   "execution_count": null,
   "id": "47b539db-1cf7-4f81-b33b-b99ee3c79290",
   "metadata": {},
   "outputs": [],
   "source": []
  },
  {
   "cell_type": "markdown",
   "id": "88ca2f8e-46fa-44d2-ace5-ca571d3886a6",
   "metadata": {},
   "source": [
    "### Demo\n",
    "Go through the website https://www.data-to-viz.com/ and show copy paste and modify code"
   ]
  },
  {
   "cell_type": "markdown",
   "id": "6a81c1a3-d440-45da-b77d-105c3ab410d0",
   "metadata": {},
   "source": [
    "* Opinions on seaborn, matplotlib and others\n",
    "* Explain the objects interface https://seaborn.pydata.org/tutorial/objects_interface.html"
   ]
  },
  {
   "cell_type": "markdown",
   "id": "df91f7df-8bda-4fbc-8252-1e2a0207de42",
   "metadata": {},
   "source": [
    "## Sci kit learn\n",
    "https://scikit-learn.org/stable/auto_examples/cross_decomposition/plot_pcr_vs_pls.html"
   ]
  },
  {
   "cell_type": "code",
   "execution_count": null,
   "id": "079d58c3-0698-4011-b3c4-44a174a25c1c",
   "metadata": {},
   "outputs": [],
   "source": []
  },
  {
   "cell_type": "markdown",
   "id": "d18548db-a73f-46df-8349-6422755c2270",
   "metadata": {},
   "source": [
    "Opinionated List of Resources:\n",
    "* Pip documentation\n",
    "* Data analysis libraries (seaborn, matplotlib, etc)"
   ]
  },
  {
   "cell_type": "code",
   "execution_count": null,
   "id": "9831c8cb-f235-441c-821b-9c035dbdf277",
   "metadata": {},
   "outputs": [],
   "source": []
  }
 ],
 "metadata": {
  "kernelspec": {
   "display_name": "Python 3 (ipykernel)",
   "language": "python",
   "name": "python3"
  },
  "language_info": {
   "codemirror_mode": {
    "name": "ipython",
    "version": 3
   },
   "file_extension": ".py",
   "mimetype": "text/x-python",
   "name": "python",
   "nbconvert_exporter": "python",
   "pygments_lexer": "ipython3",
   "version": "3.12.2"
  }
 },
 "nbformat": 4,
 "nbformat_minor": 5
}
