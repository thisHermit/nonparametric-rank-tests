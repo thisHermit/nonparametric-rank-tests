{
 "cells": [
  {
   "cell_type": "markdown",
   "id": "e852312b-05e4-44d1-a48d-d56d7a96089f",
   "metadata": {},
   "source": [
    "# Python Tutorial"
   ]
  },
  {
   "cell_type": "markdown",
   "id": "17a27463-7c98-44fd-97aa-70509198ca4d",
   "metadata": {},
   "source": [
    "## Outline\n",
    "\n",
    "* Setup\n",
    "    * Python installation\n",
    "    * Jupyter installation\n",
    "    * Library installation\n",
    "      * Dependency management https://stackoverflow.com/questions/39857289/should-conda-or-conda-forge-be-used-for-python-environments\n",
    "    * GWDG Jupyter instance https://jupyter-cloud.gwdg.de/\n",
    "* Python basics\n",
    "    * basic calculator like operations\n",
    "    * some data structures\n",
    "    * loops\n",
    "    * functions"
   ]
  },
  {
   "cell_type": "code",
   "execution_count": null,
   "id": "8447cbe3-a60a-45dc-afa7-f4b8b4031b31",
   "metadata": {},
   "outputs": [],
   "source": []
  },
  {
   "cell_type": "markdown",
   "id": "c614af43-434f-487d-ada1-94abdbe04903",
   "metadata": {},
   "source": [
    "## Python Basics"
   ]
  },
  {
   "cell_type": "markdown",
   "id": "7fe7557f-3ab9-4dd4-bdcb-443d2fa77ae9",
   "metadata": {},
   "source": [
    "#### Expressions"
   ]
  },
  {
   "cell_type": "code",
   "execution_count": 9,
   "id": "85ab8861-0d15-4727-a748-e1af61720415",
   "metadata": {},
   "outputs": [
    {
     "name": "stdout",
     "output_type": "stream",
     "text": [
      "24\n"
     ]
    }
   ],
   "source": [
    "print(6 * 4)"
   ]
  },
  {
   "cell_type": "code",
   "execution_count": 10,
   "id": "dfc7ee29-5715-4f3d-b6cc-0ee3e6aeaf30",
   "metadata": {},
   "outputs": [
    {
     "name": "stdout",
     "output_type": "stream",
     "text": [
      "20\n"
     ]
    }
   ],
   "source": [
    "print(2 + 3 * 6)"
   ]
  },
  {
   "cell_type": "markdown",
   "id": "f4b47d48-ed30-4fe2-a69c-476970970f01",
   "metadata": {},
   "source": [
    "#### Ex: Volume of the current room?\n",
    "\n",
    "Length * Breadth * Height"
   ]
  },
  {
   "cell_type": "code",
   "execution_count": null,
   "id": "3be044a7-3391-4513-a2df-69e689aa2939",
   "metadata": {},
   "outputs": [],
   "source": []
  },
  {
   "cell_type": "markdown",
   "id": "a39af3ae-f679-4110-9e82-641872e2b246",
   "metadata": {},
   "source": [
    "#### Variables\n",
    "\n",
    "Variable assignment is not the same as mathematical equality"
   ]
  },
  {
   "cell_type": "code",
   "execution_count": 8,
   "id": "2fa6175e-2311-46e7-8e6f-43baeb6eb20b",
   "metadata": {},
   "outputs": [],
   "source": [
    "# on the Left is the variable name, on the Right you have an expression\n",
    "number = 3"
   ]
  },
  {
   "cell_type": "code",
   "execution_count": 5,
   "id": "d7cdeb45-38de-4aef-b483-f4ad61b1ea18",
   "metadata": {},
   "outputs": [],
   "source": [
    "number = number + 5"
   ]
  },
  {
   "cell_type": "code",
   "execution_count": 12,
   "id": "cd7159da-82a5-43bd-9236-5deb14149f44",
   "metadata": {},
   "outputs": [
    {
     "name": "stdout",
     "output_type": "stream",
     "text": [
      "3\n"
     ]
    }
   ],
   "source": [
    "print(number)"
   ]
  },
  {
   "cell_type": "code",
   "execution_count": 7,
   "id": "2b116d69-447a-4482-ad5f-7c3a3bd955d6",
   "metadata": {},
   "outputs": [
    {
     "name": "stdout",
     "output_type": "stream",
     "text": [
      "8\n"
     ]
    }
   ],
   "source": [
    "print(number)"
   ]
  },
  {
   "cell_type": "code",
   "execution_count": 15,
   "id": "acb735cc-4846-46fb-b70a-31673a9c32b7",
   "metadata": {},
   "outputs": [
    {
     "name": "stdout",
     "output_type": "stream",
     "text": [
      "helloworld\n"
     ]
    }
   ],
   "source": [
    "# Concatenation\n",
    "\n",
    "hello = \"hello\"\n",
    "world = \"world\"\n",
    "\n",
    "print(hello + world)"
   ]
  },
  {
   "cell_type": "markdown",
   "id": "b1eb5fc0-d731-4975-9790-4816a144173a",
   "metadata": {},
   "source": [
    "#### Ex: Make the computer greet you"
   ]
  },
  {
   "cell_type": "code",
   "execution_count": 16,
   "id": "7a8424f6-cd06-4b26-9680-84ca53960e78",
   "metadata": {},
   "outputs": [],
   "source": [
    "name = \"<your name here>\"\n",
    "### Your below here:\n",
    "\n",
    "\n",
    "### The output should look like: Hello <your name here>, Welcome to the first Tutorial!"
   ]
  },
  {
   "cell_type": "markdown",
   "id": "f48c8e4c-bbf1-4709-827e-e40e04981303",
   "metadata": {},
   "source": [
    "### Data strucutres"
   ]
  },
  {
   "cell_type": "code",
   "execution_count": 19,
   "id": "d4a210e0-151c-4095-afe7-fbc9fb5cb67b",
   "metadata": {},
   "outputs": [],
   "source": [
    "simple_list = [1, 2, 3, 4, 5]\n",
    "simple_dictionary = {\"mercury\": 1, \"venus\": 2, \"earth\": 3, \"mars\": 4, \"jupiter\": 5, \"saturn\": 6, \"uranus\": 7, \"neptune\": 8, \"pluto\": 9}"
   ]
  },
  {
   "cell_type": "code",
   "execution_count": 20,
   "id": "fa0ca292-214b-4654-86d0-772ad722cd35",
   "metadata": {},
   "outputs": [
    {
     "name": "stdout",
     "output_type": "stream",
     "text": [
      "2\n"
     ]
    }
   ],
   "source": [
    "print(simple_list[1])"
   ]
  },
  {
   "cell_type": "code",
   "execution_count": null,
   "id": "41f91989-a5b6-4629-91c4-eced519a1bb9",
   "metadata": {},
   "outputs": [],
   "source": [
    "# What would this be equal to?\n",
    "print(simple_list[0])"
   ]
  },
  {
   "cell_type": "code",
   "execution_count": 21,
   "id": "b55a0760-8677-43fc-8dec-49e7af2faff3",
   "metadata": {},
   "outputs": [
    {
     "name": "stdout",
     "output_type": "stream",
     "text": [
      "2\n"
     ]
    }
   ],
   "source": [
    "print(simple_dictionary[\"venus\"])"
   ]
  },
  {
   "cell_type": "markdown",
   "id": "f62d7a3e-24fd-4577-8014-a4596439b2f8",
   "metadata": {},
   "source": [
    "### Ex: Add the position of mars and earth using the dictionary"
   ]
  },
  {
   "cell_type": "code",
   "execution_count": 22,
   "id": "7d407840-c194-4196-860e-0cd62c1ac67d",
   "metadata": {},
   "outputs": [],
   "source": [
    "### Expected output: 7\n"
   ]
  },
  {
   "cell_type": "markdown",
   "id": "663723b6-ce05-4771-8a40-90f91498167c",
   "metadata": {},
   "source": [
    "### Control Flow "
   ]
  },
  {
   "cell_type": "code",
   "execution_count": 18,
   "id": "5ea1e4fe-5d15-4093-a8a4-95beca310a17",
   "metadata": {},
   "outputs": [
    {
     "name": "stdout",
     "output_type": "stream",
     "text": [
      "System unlocked\n"
     ]
    }
   ],
   "source": [
    "# Simple password checker\n",
    "password = \"very secret password that lives on the moon\"\n",
    "\n",
    "if password == \"very secret password that lives on the moon\":\n",
    "    print(\"System unlocked\")\n",
    "else:\n",
    "    print(\"Access Denied\")"
   ]
  },
  {
   "cell_type": "code",
   "execution_count": 23,
   "id": "3d651acf-ee14-4f4a-bc62-38362ff0b19e",
   "metadata": {},
   "outputs": [
    {
     "name": "stdout",
     "output_type": "stream",
     "text": [
      "1\n",
      "2\n",
      "3\n",
      "4\n",
      "5\n"
     ]
    }
   ],
   "source": [
    "for number in simple_list:\n",
    "    print(number)"
   ]
  },
  {
   "cell_type": "code",
   "execution_count": 25,
   "id": "4bb247c7-99d8-4b14-83c7-dc96acffedbe",
   "metadata": {},
   "outputs": [
    {
     "name": "stdout",
     "output_type": "stream",
     "text": [
      "mercury\n",
      "venus\n",
      "earth\n",
      "mars\n",
      "jupiter\n",
      "saturn\n",
      "uranus\n",
      "neptune\n",
      "pluto\n"
     ]
    }
   ],
   "source": [
    "longer_list = [\"mercury\", \"venus\", \"earth\", \"mars\", \"jupiter\", \"saturn\", \"uranus\", \"neptune\", \"pluto\"]\n",
    "for planet in longer_list:\n",
    "    print(planet)"
   ]
  },
  {
   "cell_type": "code",
   "execution_count": 26,
   "id": "067b33ed-09f7-4a8a-94b2-24b3db60c65c",
   "metadata": {},
   "outputs": [
    {
     "name": "stdout",
     "output_type": "stream",
     "text": [
      "mercury\n",
      "venus\n",
      "earth\n",
      "mars\n",
      "jupiter\n",
      "7\n",
      "4\n",
      "1\n"
     ]
    }
   ],
   "source": [
    "complicated_list = [\"mercury\", \"venus\", \"earth\", \"mars\", \"jupiter\", 7, 4, 1]\n",
    "for item in complicated_list:\n",
    "    print(item)"
   ]
  },
  {
   "cell_type": "code",
   "execution_count": null,
   "id": "47b539db-1cf7-4f81-b33b-b99ee3c79290",
   "metadata": {},
   "outputs": [],
   "source": []
  }
 ],
 "metadata": {
  "kernelspec": {
   "display_name": "Python 3 (ipykernel)",
   "language": "python",
   "name": "python3"
  },
  "language_info": {
   "codemirror_mode": {
    "name": "ipython",
    "version": 3
   },
   "file_extension": ".py",
   "mimetype": "text/x-python",
   "name": "python",
   "nbconvert_exporter": "python",
   "pygments_lexer": "ipython3",
   "version": "3.12.2"
  }
 },
 "nbformat": 4,
 "nbformat_minor": 5
}
