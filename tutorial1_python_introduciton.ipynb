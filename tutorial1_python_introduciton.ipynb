{
 "cells": [
  {
   "cell_type": "markdown",
   "metadata": {
    "id": "DmAFv82Jo6At"
   },
   "source": [
    "# Introduction to Python"
   ]
  },
  {
   "cell_type": "markdown",
   "metadata": {
    "id": "5M4RzS3bdO4K"
   },
   "source": [
    "To follow along and run the labs in this course, you will need two things:\n",
    "\n",
    "* An installation of `Python3`, which is the specific version of `Python`  used in the labs.\n",
    "* Access to  `Jupyter`, a very popular `Python` interface that runs code through a file called a *notebook*."
   ]
  },
  {
   "cell_type": "markdown",
   "metadata": {
    "id": "-pC9fNl3dfMA"
   },
   "source": [
    "Unfortunately, currently there is not one stop solution to install both at the same time that is free for organisational use."
   ]
  },
  {
   "cell_type": "markdown",
   "metadata": {},
   "source": [
    "## Download instructions\n",
    "1. Download the installer from [Python Downloads](https://www.python.org/downloads/).  \n",
    "   Example version used: [Python 3.12.4](https://www.python.org/ftp/python/3.12.4/python-3.12.4-amd64.exe).\n",
    "\n",
    "2. Run the `.exe` file as Administrator (“Als Administrator ausführen”).\n",
    "\n",
    "3. During installation:\n",
    "\n",
    "   - Check the boxes for **Admin privileges** and **Add python.exe to PATH**.\n",
    "   - Choose **Custom Install** and uncheck the boxes:\n",
    "     - `tcl/tk`\n",
    "     - `Python test suite`\n",
    "   - Check **Install Python 3.12 for all users** and **Precompile Standard Library**.\n",
    "\n",
    "4. Select **Disable path length limit** and then complete the installation.\n",
    "\n",
    "## 5. Restart\n",
    "\n",
    "Restart your computer to apply all changes from the Python installations.\n",
    "\n",
    "## 6. Python Libraries Installation\n",
    "\n",
    "1. Open the Command Prompt as Administrator.\n",
    "   - To do this, search for \"Eingabeaufforderung\" on the Windows search bar.\n",
    "   - Right click on it. This will show you an option called “Als Administrator ausführen” which will allow you to open Command Prompt as Administrator.\n",
    "2. Run the following commands to install required libraries:\n",
    "   ```bash\n",
    "   py -m pip install notebook pandas asyncio aiohttp tqdm\n",
    "   ```\n",
    "   Do this by copying this line and pasting it in the command prompt and then pressing enter. Please wait until the installation is completed.\n"
   ]
  },
  {
   "cell_type": "markdown",
   "metadata": {
    "id": "d4Q80xIndkrV"
   },
   "source": [
    " There are a number of ways to get access to `Jupyter`. Here are just a few:\n",
    "\n",
    " * Using Google's `Colaboratory` service: [colab.research.google.com/](https://colab.research.google.com/).\n",
    " * Using Kaggle: [kaggle.com](https://www.kaggle.com/)\n",
    " * Using `JupyterHub`, available at [jupyter.org/hub](https://jupyter.org/hub).\n",
    " * Using your own `jupyter` installation. Installation instructions are available at [jupyter.org/install](https://jupyter.org/install).\n",
    " * GWDG Jupyter instance https://jupyter-cloud.gwdg.de/"
   ]
  },
  {
   "cell_type": "markdown",
   "metadata": {
    "id": "XAVU39T3pEU7"
   },
   "source": [
    "## Getting Started"
   ]
  },
  {
   "cell_type": "markdown",
   "metadata": {},
   "source": [
    "### The Python programming language\n",
    "\n",
    "Python is a high-level, general-purpose programming language with an emphasis on code readability. It has the following features:\n",
    "\n",
    "* dynamically type-checked (type safety performed at runtime)\n",
    "    * optional type annotations since version 3.5\n",
    "* multi-paradigm\n",
    "    * procedural (the procedure the primary focus, data is acted on)\n",
    "    * object-oriented (the objects are the primary focus, data is encapsulated in objects with their functions)\n",
    "    * functional (the functions always yield the same value for the same input)\n",
    "* \"batteries-included\" (many features in the standard libraries)\n",
    "\n",
    "The Zen of python can be found on [wikipedia](https://en.wikipedia.org/wiki/Zen_of_Python).\n",
    "\n",
    "An example of Inheritance is below\n",
    "\n",
    "![image](https://developer.ibm.com/developer/default/articles/the-class-diagram/images/bell_fig5.jpg)"
   ]
  },
  {
   "cell_type": "markdown",
   "metadata": {
    "id": "53fkNqTyfAYr"
   },
   "source": [
    "## Hello World\n",
    "\n",
    "One of the simplest (and most important!) tasks you can ask a computer to do is to print a message.\n",
    "In Python, we ask a computer to print a message for us by writing `print()` and putting the message inside the parentheses and enclosed in quotation marks"
   ]
  },
  {
   "cell_type": "code",
   "execution_count": null,
   "metadata": {
    "id": "8RVpzaE6dXZt"
   },
   "outputs": [],
   "source": [
    "print(\"Hello world!\")"
   ]
  },
  {
   "cell_type": "markdown",
   "metadata": {
    "id": "2V8AOBdKfjs-"
   },
   "source": [
    "## Data Types"
   ]
  },
  {
   "cell_type": "markdown",
   "metadata": {
    "id": "TFymStjqfpbh"
   },
   "source": [
    "### Numeric\n",
    "In Python, you can work with various numeric data types, including integers and floating-point numbers."
   ]
  },
  {
   "cell_type": "code",
   "execution_count": null,
   "metadata": {
    "id": "L_-3jfuVfMg-"
   },
   "outputs": [],
   "source": [
    "x = 5       # integer\n",
    "y = 2.5     # floating-point number\n",
    "print(type(x))\n",
    "print(type(y))"
   ]
  },
  {
   "cell_type": "markdown",
   "metadata": {
    "id": "_WZirwjlf4yN"
   },
   "source": [
    "### Strings\n",
    "Strings are sequences of characters, and they can be defined using single or double quotes."
   ]
  },
  {
   "cell_type": "code",
   "execution_count": null,
   "metadata": {
    "id": "qsK96Lqhftbi"
   },
   "outputs": [],
   "source": [
    "name = \"Alice\"\n",
    "print(name)\n",
    "message = 'Hello, World!'\n",
    "print(message)"
   ]
  },
  {
   "cell_type": "markdown",
   "metadata": {
    "id": "jzZrksLsgEpQ"
   },
   "source": [
    "#### Converting variables between different data types\n"
   ]
  },
  {
   "cell_type": "code",
   "execution_count": null,
   "metadata": {
    "id": "smMFH16wgFW7"
   },
   "outputs": [],
   "source": [
    "new_int = 4\n",
    "print(\"Initially, we had new_int =\", new_int, \"of type\", type(new_int))\n",
    "new_int = float(new_int)\n",
    "print(\"Now, we have new_int =\", new_int, \"of type\", type(new_int))"
   ]
  },
  {
   "cell_type": "markdown",
   "metadata": {
    "id": "umOaMxxkgOCd"
   },
   "source": [
    "**Note:**\n",
    "Some conversions are not possible at all, and some might only work in specific cases\n",
    "- For example, It's possible to cast from string to int, but only if all characters in the string are valid for an integer"
   ]
  },
  {
   "cell_type": "code",
   "execution_count": null,
   "metadata": {
    "id": "p6pcZNPDgI0t"
   },
   "outputs": [],
   "source": [
    "print(int(\"37\"))"
   ]
  },
  {
   "cell_type": "code",
   "execution_count": null,
   "metadata": {
    "id": "uIlaTMFBgQhx"
   },
   "outputs": [],
   "source": [
    "print(int(\"Thirty-Seven\"))"
   ]
  },
  {
   "cell_type": "code",
   "execution_count": null,
   "metadata": {
    "id": "N59Pgr5OgStH"
   },
   "outputs": [],
   "source": [
    "print(int(\"42.0\"))"
   ]
  },
  {
   "cell_type": "code",
   "execution_count": null,
   "metadata": {
    "id": "-N-RM-5Rgbj8"
   },
   "outputs": [],
   "source": [
    "int(42.0)"
   ]
  },
  {
   "cell_type": "markdown",
   "metadata": {
    "id": "HF9h56JSgoKj"
   },
   "source": [
    "### None\n",
    "Signifies that a variable holds no value whatsoever, and that it has not yet a type such as `int` or `string`."
   ]
  },
  {
   "cell_type": "code",
   "execution_count": null,
   "metadata": {
    "id": "QYz8HnZfgopB"
   },
   "outputs": [],
   "source": [
    "var = None\n",
    "print(type(var))"
   ]
  },
  {
   "cell_type": "markdown",
   "metadata": {
    "id": "N2Hhp4ysgsW4"
   },
   "source": [
    "### Boolean\n",
    "Assumes a `True` or `False` value."
   ]
  },
  {
   "cell_type": "code",
   "execution_count": null,
   "metadata": {
    "id": "GTv5JKQ8gqRA"
   },
   "outputs": [],
   "source": [
    "x = True\n",
    "y = False\n",
    "print(type(x))\n",
    "print(type(y))"
   ]
  },
  {
   "cell_type": "markdown",
   "metadata": {
    "id": "XGeQwpP8g2Pd"
   },
   "source": [
    "## Arithmetic operators\n",
    "Some of the operations include: `+`, `-`, `/`, `*`, `//`, `**`, `%`"
   ]
  },
  {
   "cell_type": "code",
   "execution_count": null,
   "metadata": {
    "id": "6EDhtcoOgva9"
   },
   "outputs": [],
   "source": [
    "10 + 2"
   ]
  },
  {
   "cell_type": "code",
   "execution_count": null,
   "metadata": {
    "id": "mGO-M2MMg466"
   },
   "outputs": [],
   "source": [
    "int_var = 5\n",
    "float_var = 1.23\n",
    "int_var + float_var"
   ]
  },
  {
   "cell_type": "code",
   "execution_count": null,
   "metadata": {
    "id": "wKNFRSvzg6QU"
   },
   "outputs": [],
   "source": [
    "'sample' + 2"
   ]
  },
  {
   "cell_type": "code",
   "execution_count": null,
   "metadata": {
    "id": "3JQzHz-og-Jp"
   },
   "outputs": [],
   "source": [
    "'sample' + str(2)"
   ]
  },
  {
   "cell_type": "code",
   "execution_count": null,
   "metadata": {
    "id": "cIovQ2TCknFQ"
   },
   "outputs": [],
   "source": [
    "100 - 1"
   ]
  },
  {
   "cell_type": "code",
   "execution_count": null,
   "metadata": {
    "id": "ipOh9t1Tkqae"
   },
   "outputs": [],
   "source": [
    "100 - (-1)"
   ]
  },
  {
   "cell_type": "code",
   "execution_count": null,
   "metadata": {
    "id": "0mHgNriYkuTh"
   },
   "outputs": [],
   "source": [
    "int_var - float_var"
   ]
  },
  {
   "cell_type": "code",
   "execution_count": null,
   "metadata": {
    "id": "MYj3jiTrkxCj"
   },
   "outputs": [],
   "source": [
    "100 * - 4"
   ]
  },
  {
   "cell_type": "code",
   "execution_count": null,
   "metadata": {
    "id": "2IM_HIrEeE8g"
   },
   "outputs": [],
   "source": [
    "'sample' * 2"
   ]
  },
  {
   "cell_type": "code",
   "execution_count": null,
   "metadata": {
    "id": "5pFgKyMJk3AU"
   },
   "outputs": [],
   "source": [
    "15/4"
   ]
  },
  {
   "cell_type": "markdown",
   "metadata": {
    "id": "C4IkvB1TkJAf"
   },
   "source": [
    "**Note**: integer division (`//`) operation 11`//`2 and `int(11/2)` both give you the same result which is the integer before the decimal point\n",
    " the modulus operator `%` returns the remainder of a division"
   ]
  },
  {
   "cell_type": "code",
   "execution_count": null,
   "metadata": {
    "id": "MDQdFI6CdOEj"
   },
   "outputs": [],
   "source": [
    "11//2"
   ]
  },
  {
   "cell_type": "code",
   "execution_count": null,
   "metadata": {
    "id": "jDvIew4okMol"
   },
   "outputs": [],
   "source": [
    "13%4"
   ]
  },
  {
   "cell_type": "markdown",
   "metadata": {
    "id": "cToea2DSjpqM"
   },
   "source": [
    "For exponentiation in Python we can use the `**` operator or `pow` function"
   ]
  },
  {
   "cell_type": "code",
   "execution_count": null,
   "metadata": {
    "id": "DyYV_CLfjtR8"
   },
   "outputs": [],
   "source": [
    "2**3"
   ]
  },
  {
   "cell_type": "code",
   "execution_count": null,
   "metadata": {
    "id": "S1qJfQV1jvYt"
   },
   "outputs": [],
   "source": [
    "pow(2,3)"
   ]
  },
  {
   "cell_type": "code",
   "execution_count": null,
   "metadata": {
    "id": "D3F7AXgPjw42"
   },
   "outputs": [],
   "source": [
    "16**0.5"
   ]
  },
  {
   "attachments": {
    "73039391-2530-46be-816c-11944882d197.png": {
     "image/png": "[encoded data removed]"
    }
   },
   "cell_type": "markdown",
   "metadata": {},
   "source": [
    "Exercise \n",
    "\n",
    "\n",
    "![image.png](attachment:73039391-2530-46be-816c-11944882d197.png)\n",
    "\n",
    "If a test identifies 80 individuals as positive for a condition (true positives) but misses 20 individuals who have the condition (false negatives), what is the sensitivity of the test?\n"
   ]
  },
  {
   "cell_type": "code",
   "execution_count": null,
   "metadata": {},
   "outputs": [],
   "source": []
  },
  {
   "cell_type": "markdown",
   "metadata": {
    "id": "1LGJobs-jirK"
   },
   "source": [
    "## Logical Operators & more\n",
    "Booleans are useful to any verification we peform. We will perform them all the time, especially when we are working with Branches, Loops, etc."
   ]
  },
  {
   "cell_type": "code",
   "execution_count": null,
   "metadata": {
    "id": "HJtqN484jclr"
   },
   "outputs": [],
   "source": [
    "flag_a = True\n",
    "flag_b = False\n",
    "\n",
    "print(flag_a and flag_b)\n",
    "print(flag_a or flag_b)\n",
    "print(not(flag_a))\n",
    "print(not(flag_b))"
   ]
  },
  {
   "cell_type": "code",
   "execution_count": null,
   "metadata": {
    "id": "V0oV10CPk9kg"
   },
   "outputs": [],
   "source": [
    "print(3 < 7)\n",
    "print(73 == 73.0)\n",
    "print(4 == '4')\n",
    "print(1!=0)"
   ]
  },
  {
   "cell_type": "markdown",
   "metadata": {
    "id": "a1MKlUqtjaEo"
   },
   "source": [
    "Empty constructions are `False`."
   ]
  },
  {
   "cell_type": "code",
   "execution_count": null,
   "metadata": {
    "id": "JMVeNJVZjX-3"
   },
   "outputs": [],
   "source": [
    "print(bool([]))\n",
    "print(bool(''))"
   ]
  },
  {
   "cell_type": "markdown",
   "metadata": {
    "id": "PAx02BUajTQK"
   },
   "source": [
    "Anything that holds a non-zero value or isn't empty is `True`."
   ]
  },
  {
   "cell_type": "code",
   "execution_count": null,
   "metadata": {
    "id": "HpQYpquTlHiN"
   },
   "outputs": [],
   "source": [
    "print(bool(37))\n",
    "print(bool(\"hello\"))\n",
    "print(bool(['a', 3, 2.0]))\n",
    "print(bool([False]))"
   ]
  },
  {
   "cell_type": "markdown",
   "metadata": {
    "id": "WJwQNsVkwbRb"
   },
   "source": [
    "## Lists\n",
    "Lists are **ordered**, **mutable** collections of items that can be of different data types."
   ]
  },
  {
   "cell_type": "markdown",
   "metadata": {},
   "source": [
    "Non-homogenous List"
   ]
  },
  {
   "cell_type": "code",
   "execution_count": null,
   "metadata": {
    "id": "ICjXlMwHwcVe"
   },
   "outputs": [],
   "source": [
    "mess = [\"flour\", 100, True, \"milk\", 42.0]\n",
    "print(mess)\n",
    "print(type(mess))"
   ]
  },
  {
   "cell_type": "code",
   "execution_count": null,
   "metadata": {
    "id": "4S-5lS-Ywf2p"
   },
   "outputs": [],
   "source": [
    "days = ['Monday','Tuesday','Wednesday']\n",
    "print(days)"
   ]
  },
  {
   "cell_type": "code",
   "execution_count": null,
   "metadata": {
    "id": "ZQT95q9jwh3l"
   },
   "outputs": [],
   "source": [
    "# Checking membership\n",
    "'Monday' in days"
   ]
  },
  {
   "cell_type": "code",
   "execution_count": null,
   "metadata": {
    "id": "ZC9_SmV8wj6A"
   },
   "outputs": [],
   "source": [
    "'Friday' in days"
   ]
  },
  {
   "cell_type": "code",
   "execution_count": null,
   "metadata": {
    "id": "HWNoheItwlml"
   },
   "outputs": [],
   "source": [
    "# indexing in Python starts with 0.\n",
    "print(days[0])\n",
    "print(days[2])"
   ]
  },
  {
   "cell_type": "code",
   "execution_count": null,
   "metadata": {
    "id": "dcsJffhBwnHH"
   },
   "outputs": [],
   "source": [
    "eclipse_dates = ['June 21, 2001', 'December 4, 2002', 'November 23, 2003',\n",
    "                 'March 29, 2006', 'August 1, 2008', 'July 22, 2009',\n",
    "                 'July 11, 2010', 'November 13, 2012', 'March 20, 2015',\n",
    "                 'March 9, 2016']\n",
    "print(eclipse_dates[-1])"
   ]
  },
  {
   "cell_type": "code",
   "execution_count": null,
   "metadata": {
    "id": "ODg-S4E2wphe"
   },
   "outputs": [],
   "source": [
    "# obtain the length of a list\n",
    "len(eclipse_dates)"
   ]
  },
  {
   "cell_type": "code",
   "execution_count": null,
   "metadata": {
    "id": "3IVvptyuxMmC"
   },
   "outputs": [],
   "source": [
    "# Lists are mutable - can be modified\n",
    "## The `append()` method is used to add a single element to the end of the list\n",
    "days = ['Monday','Tuesday','Wednesday']\n",
    "days.append('Friday')\n",
    "print(days)"
   ]
  },
  {
   "cell_type": "code",
   "execution_count": null,
   "metadata": {
    "id": "PTttLaA5xOIB"
   },
   "outputs": [],
   "source": [
    "# The extend() method is used to append multiple elements to the end of a list\n",
    "days.extend(['Saturday', 'Sunday'])\n",
    "days"
   ]
  },
  {
   "cell_type": "code",
   "execution_count": null,
   "metadata": {
    "id": "OLWrczYtxSQB"
   },
   "outputs": [],
   "source": [
    "# The insert() method is used to add an element at a specified position within a list.\n",
    "days.insert(3, 'Thurday')\n",
    "days"
   ]
  },
  {
   "cell_type": "markdown",
   "metadata": {
    "id": "_dK7QoNwxc_f"
   },
   "source": [
    "### Slicing\n",
    "Slicing is a technique used to extract portions of a list or a string by specifying a range of indices.\n",
    "You can specify a `start` index (**inclusive**) and an `end` index (**exclusive**) to create a new list that contains a portion of the original list."
   ]
  },
  {
   "cell_type": "markdown",
   "metadata": {},
   "source": [
    "Homogenous List"
   ]
  },
  {
   "cell_type": "code",
   "execution_count": null,
   "metadata": {
    "id": "QfwcMCxaxic-"
   },
   "outputs": [],
   "source": [
    "days = ['Monday', 'Tuesday', 'Wednesday', 'Thursday', 'Friday', 'Saturday', 'Sunday']\n",
    "\n",
    "days[1:3]"
   ]
  },
  {
   "cell_type": "code",
   "execution_count": null,
   "metadata": {
    "id": "LdpZFYujxizF"
   },
   "outputs": [],
   "source": [
    "# default start value - 0\n",
    "days[:5]"
   ]
  },
  {
   "cell_type": "code",
   "execution_count": null,
   "metadata": {
    "id": "f6iNGJMMxkVz"
   },
   "outputs": [],
   "source": [
    "# default end value - length of the list\n",
    "days[3:]"
   ]
  },
  {
   "cell_type": "code",
   "execution_count": null,
   "metadata": {
    "id": "KKIeyl27xll-"
   },
   "outputs": [],
   "source": [
    "# ::step_size\n",
    "days[::2]"
   ]
  },
  {
   "cell_type": "code",
   "execution_count": null,
   "metadata": {
    "id": "TGTnGT_Bxndt"
   },
   "outputs": [],
   "source": [
    "days[::-1]"
   ]
  },
  {
   "cell_type": "markdown",
   "metadata": {
    "id": "pOS9I7dqyhvT"
   },
   "source": [
    "### Nested Lists\n",
    "A list can contain lists itself. You can for example think of a matrix as a list of lists as in the following example."
   ]
  },
  {
   "cell_type": "code",
   "execution_count": null,
   "metadata": {
    "id": "KQvDy4sSyieQ"
   },
   "outputs": [],
   "source": [
    "matrix = [ [1,2] , [3,4] ]\n",
    "matrix"
   ]
  },
  {
   "cell_type": "code",
   "execution_count": null,
   "metadata": {
    "id": "JGroUFlQyq8q"
   },
   "outputs": [],
   "source": [
    "matrix[0]"
   ]
  },
  {
   "cell_type": "code",
   "execution_count": null,
   "metadata": {
    "id": "ZgiGqEjaytKN"
   },
   "outputs": [],
   "source": [
    "matrix[1][0]"
   ]
  },
  {
   "cell_type": "markdown",
   "metadata": {
    "id": "CqTEgoUyy1UO"
   },
   "source": [
    "The nested lists can be as deep as you need them. For example, you can construct a 3 dimensional matrix with nested lists."
   ]
  },
  {
   "cell_type": "code",
   "execution_count": null,
   "metadata": {
    "id": "12IofoCAy1f8"
   },
   "outputs": [],
   "source": [
    "tensor = [ [[1,2],[3,4]] ,[[5,6],[7,8]] , [[9,10],[11,12]] ]\n",
    "tensor"
   ]
  },
  {
   "cell_type": "markdown",
   "metadata": {
    "id": "nF1F8UmX0D4h"
   },
   "source": [
    "## Dictionaries\n",
    "Dictionaries are a versatile data structure in Python that store data as key-value pairs. Each key is associated with a specific value, and you can use the key to retrieve the corresponding value. Keys in a dictionary are unique"
   ]
  },
  {
   "cell_type": "code",
   "execution_count": null,
   "metadata": {
    "id": "6S-q63Ca0Fad"
   },
   "outputs": [],
   "source": [
    "country_codes = {'Switzerland': 41, 'France': 33, 'Spain': 34,\n",
    "                 'UK': 44, 'Germany': 49}\n",
    "country_codes"
   ]
  },
  {
   "cell_type": "code",
   "execution_count": null,
   "metadata": {
    "id": "GA0ywC8p0IpP"
   },
   "outputs": [],
   "source": [
    "country_codes['Germany']"
   ]
  },
  {
   "cell_type": "markdown",
   "metadata": {
    "id": "4jy7C1uG0LSE"
   },
   "source": [
    "Querying the contained information"
   ]
  },
  {
   "cell_type": "code",
   "execution_count": null,
   "metadata": {
    "id": "BT1osjtz0O_9"
   },
   "outputs": [],
   "source": [
    "country_codes.items()"
   ]
  },
  {
   "cell_type": "code",
   "execution_count": null,
   "metadata": {
    "id": "V07EOHvf0QnR"
   },
   "outputs": [],
   "source": [
    "country_codes.keys()"
   ]
  },
  {
   "cell_type": "code",
   "execution_count": null,
   "metadata": {
    "id": "fNBy_SXH0Sml"
   },
   "outputs": [],
   "source": [
    "country_codes.values()"
   ]
  },
  {
   "cell_type": "markdown",
   "metadata": {
    "id": "SfcSZ7Bu0Vla"
   },
   "source": [
    "Adding new entries"
   ]
  },
  {
   "cell_type": "code",
   "execution_count": null,
   "metadata": {
    "id": "Lq03cL_E0Y4s"
   },
   "outputs": [],
   "source": [
    "country_codes['Italy'] = 39\n",
    "country_codes['UK'] = '44'\n",
    "print(country_codes)"
   ]
  },
  {
   "cell_type": "code",
   "execution_count": null,
   "metadata": {
    "id": "_IellzkT00mV"
   },
   "outputs": [],
   "source": [
    "nums = dict(one=1, two=2, three=3, four=4)\n",
    "nums"
   ]
  },
  {
   "cell_type": "code",
   "execution_count": null,
   "metadata": {
    "id": "IG5I-nLv03nI"
   },
   "outputs": [],
   "source": [
    "del nums['two']"
   ]
  },
  {
   "cell_type": "code",
   "execution_count": null,
   "metadata": {
    "id": "A5F0AbIV05pP"
   },
   "outputs": [],
   "source": [
    "nums['two']"
   ]
  },
  {
   "cell_type": "code",
   "execution_count": null,
   "metadata": {
    "id": "RdlWtz9i07rs"
   },
   "outputs": [],
   "source": [
    "nums.get('two', 'NA')"
   ]
  },
  {
   "cell_type": "markdown",
   "metadata": {
    "id": "nES2Dtt7zJoR"
   },
   "source": [
    "## Tuples and Sets\n",
    "\n",
    "Tuples are ordered, immutable collections in Python. Once you create a tuple, you cannot change its contents."
   ]
  },
  {
   "cell_type": "code",
   "execution_count": null,
   "metadata": {
    "id": "m9Uq5Q33zKwc"
   },
   "outputs": [],
   "source": [
    "# Creating a tuple\n",
    "coordinates = (3, 4)\n",
    "\n",
    "# Accessing elements\n",
    "x = coordinates[0]\n",
    "y = coordinates[1]\n",
    "\n",
    "print(\"X-coordinate:\", x)\n",
    "print(\"Y-coordinate:\", y)"
   ]
  },
  {
   "cell_type": "code",
   "execution_count": null,
   "metadata": {
    "id": "SylV7WNjzMXZ"
   },
   "outputs": [],
   "source": [
    "# tuples are immutable\n",
    "coordinates[0] = 5"
   ]
  },
  {
   "cell_type": "markdown",
   "metadata": {
    "id": "TnwdX5_q1HqN"
   },
   "source": [
    "Sets are unordered collections of unique elements. They are used when you want to store multiple items and ensure uniqueness."
   ]
  },
  {
   "cell_type": "code",
   "execution_count": null,
   "metadata": {
    "id": "2UX4KiXxzN-c"
   },
   "outputs": [],
   "source": [
    "# Creating a set\n",
    "my_set = {1, 2, 3, 3, 4, 4}\n",
    "\n",
    "# Accessing elements (no specific index)\n",
    "print(\"Set:\", my_set)\n",
    "print(3 in my_set)"
   ]
  },
  {
   "cell_type": "markdown",
   "metadata": {
    "id": "NNNfjy3G1QEY"
   },
   "source": [
    "In the above example, we create a set with unique elements, and duplicates are automatically removed."
   ]
  },
  {
   "cell_type": "markdown",
   "metadata": {
    "id": "1HcfE29m1SnH"
   },
   "source": [
    "## Conditional Statements\n",
    "Conditional statements are used to execute different blocks of code based on specific conditions. The basic structure consists of an `if` statement, optionally followed by one or more `elif` (else if) statements, and an optional `else` statement."
   ]
  },
  {
   "cell_type": "code",
   "execution_count": null,
   "metadata": {
    "id": "fsXDFjF41JXq"
   },
   "outputs": [],
   "source": [
    "threshold_value = 0.3\n",
    "if threshold_value >= 0.5:\n",
    "    print(\"The threshold value exceeds 0.5!\")"
   ]
  },
  {
   "cell_type": "code",
   "execution_count": null,
   "metadata": {
    "id": "h-1SGUos1VGO"
   },
   "outputs": [],
   "source": [
    "if threshold_value >=0.5:\n",
    "    print(\"The threshold value exceeds 0.5!\")\n",
    "\n",
    "else:\n",
    "    print(\"Threshold was not met!\")\n"
   ]
  },
  {
   "cell_type": "code",
   "execution_count": null,
   "metadata": {
    "id": "MQv8HCLV1Wsx"
   },
   "outputs": [],
   "source": [
    "grade = 85\n",
    "\n",
    "if grade >= 90:\n",
    "    result = \"A\"\n",
    "elif grade >= 80:\n",
    "    result = \"B\"\n",
    "elif grade >= 70:\n",
    "    result = \"C\"\n",
    "else:\n",
    "    result = \"D\"\n",
    "\n",
    "print(\"Result:\", result)"
   ]
  },
  {
   "cell_type": "code",
   "execution_count": null,
   "metadata": {},
   "outputs": [],
   "source": [
    "# What happens now?\n",
    "\n",
    "grade = 95\n",
    "\n",
    "if grade >= 70:\n",
    "    result = \"C\"\n",
    "elif grade >= 80:\n",
    "    result = \"B\"\n",
    "elif grade >= 90:\n",
    "    result = \"A\"\n",
    "else:\n",
    "    result = \"D\"\n",
    "\n",
    "print(\"Result:\", result)"
   ]
  },
  {
   "cell_type": "markdown",
   "metadata": {
    "id": "XyLCaa3E1dnY"
   },
   "source": [
    "## Loops\n",
    "There are two types of loops in Python, `for` and `while`."
   ]
  },
  {
   "cell_type": "markdown",
   "metadata": {
    "id": "iFbbqvyk1gl8"
   },
   "source": [
    "A `while` loop is used to execute a block of code as long as a certain condition is met."
   ]
  },
  {
   "cell_type": "code",
   "execution_count": null,
   "metadata": {
    "id": "j4ax76gu1awm"
   },
   "outputs": [],
   "source": [
    "counter = 0\n",
    "\n",
    "while counter < 10:\n",
    "    counter = counter + 1\n",
    "\n",
    "    print(counter)\n",
    "\n",
    "print(\"\\n\", counter, \"is the final value of counter.\")"
   ]
  },
  {
   "cell_type": "markdown",
   "metadata": {
    "id": "HHYzl4RN1m-d"
   },
   "source": [
    "`for` loops iterate over a given sequence  such as a list, tuple, string, etc. Here is an example:"
   ]
  },
  {
   "cell_type": "code",
   "execution_count": null,
   "metadata": {
    "id": "YN574-EI1i2E"
   },
   "outputs": [],
   "source": [
    "primes = [2, 3, 5, 7]\n",
    "for prime in primes:\n",
    "    print(prime)"
   ]
  },
  {
   "cell_type": "code",
   "execution_count": null,
   "metadata": {
    "id": "79J6ycfu1o71"
   },
   "outputs": [],
   "source": [
    "for letter in 'string':\n",
    "    print(letter)"
   ]
  },
  {
   "cell_type": "code",
   "execution_count": null,
   "metadata": {
    "id": "_OfLX_GF1rnr"
   },
   "outputs": [],
   "source": [
    "cast = {\n",
    "           \"Jerry Seinfeld\": \"Jerry Seinfeld\",\n",
    "           \"Julia Louis-Dreyfus\": \"Elaine Benes\",\n",
    "           \"Jason Alexander\": \"George Costanza\",\n",
    "           \"Michael Richards\": \"Cosmo Kramer\"\n",
    "       }\n",
    "\n",
    "for key, value in cast.items():\n",
    "    print(f\"Actor: {key:20}\\tRole: {value}\")"
   ]
  },
  {
   "cell_type": "markdown",
   "metadata": {
    "id": "vgrTJ0-V1wX7"
   },
   "source": [
    "For loops can iterate over a sequence of numbers using the `range()` function"
   ]
  },
  {
   "cell_type": "code",
   "execution_count": null,
   "metadata": {
    "id": "E2vdfs7B1tTr"
   },
   "outputs": [],
   "source": [
    "# Prints out the numbers 0,1,2,3,4\n",
    "for x in range(5):\n",
    "    print(x)\n",
    "\n",
    "print(\"--------------------------\")\n",
    "\n",
    "# Prints out 3,4,5\n",
    "for x in range(3, 6):\n",
    "    print(x)\n",
    "\n",
    "print(\"--------------------------\")\n",
    "\n",
    "# Prints out 3,5,7\n",
    "for x in range(3, 8, 2):\n",
    "    print(x)"
   ]
  },
  {
   "cell_type": "code",
   "execution_count": 1,
   "metadata": {
    "id": "UvrwPBd0177W"
   },
   "outputs": [
    {
     "name": "stdout",
     "output_type": "stream",
     "text": [
      "['joey_tribbiani', 'monica_geller', 'chandler_bing', 'phoebe_buffay']\n"
     ]
    }
   ],
   "source": [
    "friends = [\"Joey Tribbiani\", \"Monica Geller\", \"Chandler Bing\", \"Phoebe Buffay\"]\n",
    "\n",
    "for i in range(len(friends)):\n",
    "    friends[i] = friends[i].lower().replace(' ', '_')\n",
    "print(friends)"
   ]
  },
  {
   "cell_type": "code",
   "execution_count": 2,
   "metadata": {},
   "outputs": [
    {
     "data": {
      "text/plain": [
       "['joey_tribbiani', 'monica_geller', 'chandler_bing', 'phoebe_buffay']"
      ]
     },
     "execution_count": 2,
     "metadata": {},
     "output_type": "execute_result"
    }
   ],
   "source": [
    "[\n",
    "    friends[i].lower().replace(' ', '_') for i in range(len(friends))\n",
    "]\n"
   ]
  },
  {
   "cell_type": "markdown",
   "metadata": {
    "id": "4abquCR82OAw"
   },
   "source": [
    "### `enumerate()` and `zip()`\n",
    "\n",
    "The `enumerate()` and `zip()` functions are powerful tools for working with sequences in `for` loops.\n",
    "\n",
    "The `enumerate()` function adds a counter to an iterable and returns an enumerate object, which you can use to iterate through the elements along with their index.\n"
   ]
  },
  {
   "cell_type": "code",
   "execution_count": null,
   "metadata": {
    "id": "u0iG7Vh_2D8W"
   },
   "outputs": [],
   "source": [
    "fruits = [\"apple\", \"banana\", \"cherry\"]\n",
    "\n",
    "# Using enumerate to iterate with indices\n",
    "for index, fruit in enumerate(fruits):\n",
    "    print(f\"Index {index}: {fruit}\")"
   ]
  },
  {
   "cell_type": "markdown",
   "metadata": {
    "id": "LplO5ZtO2VnY"
   },
   "source": [
    "The `zip()` function is used to combine multiple sequences into a single iterable, creating pairs of corresponding elements."
   ]
  },
  {
   "cell_type": "code",
   "execution_count": null,
   "metadata": {
    "id": "OH-hJlDJ2Spc"
   },
   "outputs": [],
   "source": [
    "constants = [2.71, 3.14, 1.61]\n",
    "names = ['e','pi','phi']\n",
    "\n",
    "for n, c in zip(names, constants):\n",
    "    print(f\"{n} ≈ {c}\")"
   ]
  },
  {
   "cell_type": "code",
   "execution_count": null,
   "metadata": {
    "id": "7VCSutIn2Xoj"
   },
   "outputs": [],
   "source": [
    "constants = [2.71, 3.14, 1.61]\n",
    "names = ['e','pi','phi']\n",
    "colours = ['green', 'red', 'blue', 'yellow']\n",
    "\n",
    "for n, c, col in zip(names, constants, colours):\n",
    "    print(n,c,col)"
   ]
  },
  {
   "cell_type": "markdown",
   "metadata": {
    "id": "b_4Lx0zW2w1E"
   },
   "source": [
    "### List comprehension\n",
    "A list comprehension is a concise way to perform a loop and store the result in a list."
   ]
  },
  {
   "cell_type": "code",
   "execution_count": null,
   "metadata": {
    "id": "toqYVLuC2aF6"
   },
   "outputs": [],
   "source": [
    "numbers = [1, 2, 3, 4, 5]\n",
    "squares = [x ** 2 for x in numbers]\n",
    "\n",
    "print(\"Original List:\", numbers)\n",
    "print(\"Squares List:\", squares)"
   ]
  },
  {
   "cell_type": "code",
   "execution_count": null,
   "metadata": {
    "id": "Wq85pDKU27oS"
   },
   "outputs": [],
   "source": [
    "[i**2 for i in range(4,10)]"
   ]
  },
  {
   "cell_type": "markdown",
   "metadata": {
    "id": "XR7YITHn3DQm"
   },
   "source": [
    "## Functions\n",
    "\n",
    "A function in Python is a reusable block of code that performs a specific task. Functions allow you to organize your code, make it more readable, and reduce repetition. Functions can take inputs, perform operations, and return outputs.\n",
    "\n",
    "* Like most programming languages, Python uses functions to perform operations\n",
    "* To run a function called fun, we type `fun(input1,input2)`, where the input (or arguments) `input1` and `input2` tell Python how to run the function.\n",
    "* A function can have any number of inputs.\n",
    "\n",
    "For example, the `print()` function outputs a text representation of all of its arguments to the console."
   ]
  },
  {
   "cell_type": "code",
   "execution_count": null,
   "metadata": {
    "id": "57GekINI2-oF"
   },
   "outputs": [],
   "source": [
    "print('fit a model with', 11, 'variables')"
   ]
  },
  {
   "cell_type": "markdown",
   "metadata": {
    "id": "ovM7FJ9i3t5t"
   },
   "source": [
    "## Functions\n",
    "Functions are a convenient way to divide your code into useful blocks, allowing us to order our code, make it more readable, reuse it and save some time."
   ]
  },
  {
   "cell_type": "code",
   "execution_count": null,
   "metadata": {
    "id": "I3kc6ODj3o2A"
   },
   "outputs": [],
   "source": [
    "# Example of defining and using a function\n",
    "def greet(name):\n",
    "    \"\"\"This function greets the person with the given name.\"\"\"\n",
    "    print(\"Hello, \" + name + \"!\")\n",
    "\n",
    "# Calling the function\n",
    "greet(\"Alice\")\n",
    "greet(\"Bob\")"
   ]
  },
  {
   "cell_type": "markdown",
   "metadata": {
    "id": "eTJtRjwL32iD"
   },
   "source": [
    "Functions can accept parameters and return values. Parameters allow you to pass data into a function, and return values allow a function to provide a result."
   ]
  },
  {
   "cell_type": "code",
   "execution_count": null,
   "metadata": {
    "id": "31qz3PlK32NW"
   },
   "outputs": [],
   "source": [
    "def add_date(a_string, date):\n",
    "    # Here begins the function body\n",
    "    dated_string = a_string + '_' + date\n",
    "\n",
    "    return dated_string\n",
    "\n",
    "returned_str = add_date(a_string='experiment', date='05-11-19')\n",
    "returned_str"
   ]
  },
  {
   "cell_type": "code",
   "execution_count": null,
   "metadata": {
    "id": "K6MxUSYI4F2i"
   },
   "outputs": [],
   "source": [
    "def convert_temp(degrees_celsius = None, degrees_fahrenheit = None):\n",
    "    '''\n",
    "    This function converts degrees Celsius to degrees Fahrenheit and\n",
    "    vice versa.\n",
    "\n",
    "    degree_celsius: Input value in degrees Celsius to be converted to\n",
    "                    degrees Fahrenheit.\n",
    "    degree_fahrenheit: Input value in degrees Fahrenheit to be converted\n",
    "                       to degrees Celsius.\n",
    "    return: Temperature in the converted units.\n",
    "    '''\n",
    "\n",
    "    if degrees_celsius is not None:\n",
    "        degrees_fahrenheit = degrees_celsius * 9/5 + 32\n",
    "        print(f\"{degrees_celsius} in °C are {degrees_fahrenheit} °F\")\n",
    "        return degrees_fahrenheit\n",
    "\n",
    "    else:\n",
    "        degrees_celsius = (degrees_fahrenheit - 32) * 5/9\n",
    "        print(f\"{degrees_fahrenheit} in °F are {degrees_celsius} °C\")\n",
    "        return degrees_celsius\n"
   ]
  },
  {
   "cell_type": "code",
   "execution_count": null,
   "metadata": {
    "id": "EQqp7W4m4Gk1"
   },
   "outputs": [],
   "source": [
    "deg_F = convert_temp(degrees_celsius = 30)\n",
    "deg_F"
   ]
  },
  {
   "cell_type": "code",
   "execution_count": null,
   "metadata": {
    "id": "338ssSeP4Hpe"
   },
   "outputs": [],
   "source": [
    "deg_C = convert_temp(degrees_fahrenheit = 23)\n",
    "deg_C"
   ]
  },
  {
   "cell_type": "code",
   "execution_count": 4,
   "metadata": {},
   "outputs": [
    {
     "data": {
      "text/plain": [
       "60"
      ]
     },
     "execution_count": 4,
     "metadata": {},
     "output_type": "execute_result"
    }
   ],
   "source": [
    "# scope, hard, soft copy\n",
    "temperature = 30\n",
    "def to_reach_100(temperature):\n",
    "    return 100 - temperature\n",
    "to_reach_100(40)"
   ]
  },
  {
   "cell_type": "code",
   "execution_count": 3,
   "metadata": {},
   "outputs": [
    {
     "name": "stdout",
     "output_type": "stream",
     "text": [
      "[[0, 2, 3], [4, 5, 6]]\n"
     ]
    }
   ],
   "source": [
    "nested_list = [[1,2,3],[4,5,6]]\n",
    "copy_of_list = nested_list\n",
    "nested_list[0][0] = 0\n",
    "print(copy_of_list)"
   ]
  },
  {
   "cell_type": "code",
   "execution_count": 5,
   "metadata": {},
   "outputs": [],
   "source": [
    "import copy"
   ]
  },
  {
   "cell_type": "code",
   "execution_count": 6,
   "metadata": {},
   "outputs": [
    {
     "name": "stdout",
     "output_type": "stream",
     "text": [
      "[[0, 2, 3], [4, 5, 6]]\n"
     ]
    }
   ],
   "source": [
    "copy_of_list = copy.deepcopy(nested_list)\n",
    "nested_list[0][0] = 100\n",
    "print(copy_of_list)"
   ]
  },
  {
   "cell_type": "code",
   "execution_count": 7,
   "metadata": {},
   "outputs": [
    {
     "name": "stdout",
     "output_type": "stream",
     "text": [
      "[[100, 2, 3], [4, 5, 6]]\n"
     ]
    }
   ],
   "source": [
    "print(nested_list)"
   ]
  },
  {
   "cell_type": "markdown",
   "metadata": {
    "id": "FSx2ONMX4b6A"
   },
   "source": [
    "## Modules\n",
    "Modules are files containing Python code, which can define functions, classes, and variables. They allow you to organize your code into reusable components. You can use modules in your programs to access their functionality.\n",
    "\n",
    "Python comes with a variety of built-in modules that provide a wide range of functionality.\n",
    "\n",
    "To use installed modules, make sure to `import` them."
   ]
  },
  {
   "cell_type": "code",
   "execution_count": null,
   "metadata": {
    "id": "3_sT6rQR4duG"
   },
   "outputs": [],
   "source": [
    "import math\n",
    "num = 25\n",
    "print(math.sqrt(num))"
   ]
  },
  {
   "cell_type": "markdown",
   "metadata": {},
   "source": [
    "Fully qualified names and directory structure"
   ]
  },
  {
   "cell_type": "code",
   "execution_count": null,
   "metadata": {
    "id": "l3yII1zR4grF"
   },
   "outputs": [],
   "source": [
    "# Example of using the random module\n",
    "import random\n",
    "\n",
    "# Generate a random number between 1 and 10\n",
    "random_number = random.randint(1, 10)\n",
    "print(\"Random Number:\", random_number)"
   ]
  },
  {
   "cell_type": "markdown",
   "metadata": {
    "id": "vdS7_Mpd4mlr"
   },
   "source": [
    "Import specific symbols from a module into the local namespace"
   ]
  },
  {
   "cell_type": "code",
   "execution_count": null,
   "metadata": {
    "id": "H-ggNgNa4iUR"
   },
   "outputs": [],
   "source": [
    "from math import ceil, floor # we are specifying which modules will be used.\n",
    "print(ceil(3.7))# => 4.0\n",
    "print(floor(3.7)) # => 3.0"
   ]
  },
  {
   "cell_type": "markdown",
   "metadata": {
    "id": "D2tMhgZE4r7l"
   },
   "source": [
    "In Python, you can use the `as` keyword to bind module symbols to new symbols in the local namespace. This is particularly useful when you want to use shorter or more convenient names for symbols from imported modules."
   ]
  },
  {
   "cell_type": "code",
   "execution_count": 1,
   "metadata": {},
   "outputs": [],
   "source": [
    "import time"
   ]
  },
  {
   "cell_type": "code",
   "execution_count": 6,
   "metadata": {},
   "outputs": [
    {
     "name": "stdout",
     "output_type": "stream",
     "text": [
      "The code ran for 0.500741 seconds.\n"
     ]
    }
   ],
   "source": [
    "start_time = time.time()\n",
    "for i in range(10_000_000):\n",
    "    pass\n",
    "end_time = time.time()\n",
    "\n",
    "elapsed_time = end_time - start_time\n",
    "\n",
    "print(f\"The code ran for {elapsed_time:.6f} seconds.\")\n"
   ]
  },
  {
   "cell_type": "code",
   "execution_count": null,
   "metadata": {
    "id": "Jy-Nk3-A4oPA"
   },
   "outputs": [],
   "source": [
    "import numpy as np\n",
    "\n",
    "arr1 = np.array([[1,2],[3,4]], dtype=np.float64)\n",
    "arr2 = np.array([[5,6],[7,8]], dtype=np.float64)\n",
    "\n",
    "print(\"arr1:\")\n",
    "print(arr1)\n",
    "print()\n",
    "print(\"arr1:\")\n",
    "print(arr2)\n",
    "print()\n",
    "# Element-wise addition\n",
    "print(arr1 + arr2)"
   ]
  },
  {
   "cell_type": "markdown",
   "metadata": {},
   "source": [
    "## Classes"
   ]
  },
  {
   "cell_type": "code",
   "execution_count": 18,
   "metadata": {},
   "outputs": [
    {
     "name": "stdout",
     "output_type": "stream",
     "text": [
      "Generic Animal is calling Whiskers: Some sound!\n",
      "Whiskers responds to Generic Animal: Meow!\n",
      "Whiskers is calling Buddy: Meow!\n",
      "Buddy responds to Whiskers: Bark!\n",
      "Buddy is calling Snowball: Bark!\n",
      "Snowball responds to Buddy: Soft Meow!\n",
      "Whiskers is calling Snowball: Meow!\n",
      "Snowball responds to Whiskers: Soft Meow!\n",
      "Whiskers can only call another cat, not a Dog.\n",
      "Snowball is calling Whiskers: Soft Meow!\n",
      "Whiskers responds to Snowball: Meow!\n",
      "Whiskers is climbing a tree.\n",
      "Buddy is fetching the ball.\n",
      "Snowball is being groomed. Persian cats love grooming!\n"
     ]
    }
   ],
   "source": [
    "# Parent class\n",
    "class Animal:\n",
    "    def __init__(self, name: str, sound: str):\n",
    "        self.name = name\n",
    "        self.sound = sound\n",
    "\n",
    "    def make_sound(self):\n",
    "        print(f\"{self.name} makes a sound: {self.sound}\")\n",
    "\n",
    "    def call_other_animal(self, other_animal):\n",
    "        print(f\"{self.name} is calling {other_animal.name}: {self.sound}!\")\n",
    "        other_animal.respond_to_call(self)\n",
    "\n",
    "    def respond_to_call(self, caller):\n",
    "        print(f\"{self.name} responds to {caller.name}: {self.sound}!\")\n",
    "\n",
    "\n",
    "# Subclass Cat\n",
    "class Cat(Animal):\n",
    "    def __init__(self, name: str, sound: str = \"Meow\"):\n",
    "        super().__init__(name, sound)\n",
    "\n",
    "    def climb(self):\n",
    "        print(f\"{self.name} is climbing a tree.\")\n",
    "\n",
    "    def call_another_cat(self, other_cat):\n",
    "        if isinstance(other_cat, Cat):\n",
    "            print(f\"{self.name} is calling {other_cat.name}: {self.sound}!\")\n",
    "            other_cat.respond_to_call(self)\n",
    "        else:\n",
    "            # potentially throw errors here\n",
    "            print(f\"{self.name} can only call another cat, not a {type(other_cat).__name__}.\")\n",
    "\n",
    "\n",
    "# Subclass Dog\n",
    "class Dog(Animal):\n",
    "    def __init__(self, name: str, sound: str = \"Bark\"):\n",
    "        super().__init__(name, sound)\n",
    "\n",
    "    def fetch(self):\n",
    "        print(f\"{self.name} is fetching the ball.\")\n",
    "\n",
    "\n",
    "# Subclass PersianCat (inherits from Cat)\n",
    "class PersianCat(Cat):\n",
    "    def __init__(self, name: str):\n",
    "        super().__init__(name, sound=\"Soft Meow\")\n",
    "\n",
    "    def groom(self):\n",
    "        print(f\"{self.name} is being groomed. Persian cats love grooming!\")\n",
    "\n",
    "\n",
    "# Example usage:\n",
    "# Creating instances\n",
    "generic_animal = Animal(\"Generic Animal\", \"Some sound\")\n",
    "cat1 = Cat(\"Whiskers\")\n",
    "cat2 = PersianCat(\"Snowball\")\n",
    "dog = Dog(\"Buddy\")\n",
    "\n",
    "# General animal-to-animal communication\n",
    "generic_animal.call_other_animal(cat1)  # Generic Animal calls Whiskers\n",
    "cat1.call_other_animal(dog)  # Whiskers calls Buddy\n",
    "dog.call_other_animal(cat2)  # Buddy calls Snowball\n",
    "\n",
    "# Cat-specific communication\n",
    "cat1.call_another_cat(cat2)  # Whiskers calls Snowball\n",
    "cat1.call_another_cat(dog)  # Whiskers tries to call Buddy but fails\n",
    "cat2.call_another_cat(cat1)  # Snowball calls Whiskers\n",
    "\n",
    "# Testing individual behaviors\n",
    "cat1.climb()\n",
    "dog.fetch()\n",
    "cat2.groom()\n"
   ]
  },
  {
   "cell_type": "code",
   "execution_count": 16,
   "metadata": {},
   "outputs": [
    {
     "name": "stdout",
     "output_type": "stream",
     "text": [
      "Deposited $50.00. New balance is $150.00.\n",
      "Insufficient funds. Charging insufficient funds fee.\n",
      "Charged fee of $25.00. New balance is $125.00.\n",
      "Processing check for $30.00.\n",
      "Withdrew $30.00. New balance is $95.00.\n",
      "Deposited $500.00. New balance is $1500.00.\n",
      "Deposited $6.25. New balance is $1506.25.\n",
      "Deposited monthly interest of $6.25. New balance is $1506.25.\n",
      "Withdrew $200.00. New balance is $1306.25.\n"
     ]
    }
   ],
   "source": [
    "class BankAccount:\n",
    "    def __init__(self, owner: str, balance: float = 0.0):\n",
    "        self.owner = owner\n",
    "        self.balance = balance\n",
    "\n",
    "    def deposit(self, amount: float):\n",
    "        if amount > 0:\n",
    "            self.balance += amount\n",
    "            print(f\"Deposited ${amount:.2f}. New balance is ${self.balance:.2f}.\")\n",
    "        else:\n",
    "            print(\"Deposit amount must be positive.\")\n",
    "\n",
    "    def withdrawal(self, amount: float):\n",
    "        if amount > 0 and amount <= self.balance:\n",
    "            self.balance -= amount\n",
    "            print(f\"Withdrew ${amount:.2f}. New balance is ${self.balance:.2f}.\")\n",
    "        elif amount > self.balance:\n",
    "            print(\"Insufficient funds for this withdrawal.\")\n",
    "        else:\n",
    "            print(\"Withdrawal amount must be positive.\")\n",
    "\n",
    "\n",
    "class CheckingAccount(BankAccount):\n",
    "    def __init__(self, owner: str, balance: float = 0.0, insufficientFundsFee: float = 25.0):\n",
    "        super().__init__(owner, balance)\n",
    "        self.insufficientFundsFee = insufficientFundsFee\n",
    "\n",
    "    def processCheck(self, checkToProcess: float):\n",
    "        print(f\"Processing check for ${checkToProcess:.2f}.\")\n",
    "        self.withdrawal(checkToProcess)\n",
    "\n",
    "    def withdrawal(self, amount: float):\n",
    "        if amount > 0:\n",
    "            if amount > self.balance:\n",
    "                print(\"Insufficient funds. Charging insufficient funds fee.\")\n",
    "                self.balance -= self.insufficientFundsFee\n",
    "                print(f\"Charged fee of ${self.insufficientFundsFee:.2f}. New balance is ${self.balance:.2f}.\")\n",
    "            else:\n",
    "                super().withdrawal(amount)\n",
    "        else:\n",
    "            print(\"Withdrawal amount must be positive.\")\n",
    "\n",
    "\n",
    "class SavingsAccount(BankAccount):\n",
    "    def __init__(self, owner: str, balance: float = 0.0, annualInterestRate: float = 0.02):\n",
    "        super().__init__(owner, balance)\n",
    "        self.annualInterestRate = annualInterestRate\n",
    "\n",
    "    def depositMonthlyInterest(self):\n",
    "        monthlyInterest = self.balance * (self.annualInterestRate / 12)\n",
    "        self.deposit(monthlyInterest)\n",
    "        print(f\"Deposited monthly interest of ${monthlyInterest:.2f}. New balance is ${self.balance:.2f}.\")\n",
    "\n",
    "    def withdrawal(self, amount: float):\n",
    "        if amount > 0:\n",
    "            super().withdrawal(amount)\n",
    "        else:\n",
    "            print(\"Withdrawal amount must be positive.\")\n",
    "\n",
    "\n",
    "# Example usage:\n",
    "# Checking account example\n",
    "checking_account = CheckingAccount(\"Alice\", 100.0)\n",
    "checking_account.deposit(50.0)\n",
    "checking_account.withdrawal(200.0)\n",
    "checking_account.processCheck(30.0)\n",
    "\n",
    "# Savings account example\n",
    "savings_account = SavingsAccount(\"Bob\", 1000.0, 0.05)\n",
    "savings_account.deposit(500.0)\n",
    "savings_account.depositMonthlyInterest()\n",
    "savings_account.withdrawal(200.0)\n"
   ]
  },
  {
   "cell_type": "markdown",
   "metadata": {
    "id": "4-IYZN2dJQ4v"
   },
   "source": [
    "## Data Manipulation and Management: NumPy and Pandas\n",
    "\n",
    "`NumPy` and `Pandas` are powerful libraries for data management and manipulation in Python. They provide essential tools for handling data, performing mathematical operations, and conducting data analysis.\n",
    "\n",
    "NumPy focuses on arrays and numerical operations, while Pandas is designed for data manipulation and analysis, particularly with tabular data.\n"
   ]
  },
  {
   "cell_type": "markdown",
   "metadata": {
    "id": "lUyWCUqQKGkM"
   },
   "source": [
    "### NumPy\n",
    "Numpy arrays **are** great alternatives to Python Lists. Some of the key advantages of Numpy arrays are that they are fast, easy to work with, and give users the opportunity to perform calculations across entire arrays."
   ]
  },
  {
   "cell_type": "code",
   "execution_count": 9,
   "metadata": {
    "id": "lH2rVqu84trW"
   },
   "outputs": [
    {
     "name": "stdout",
     "output_type": "stream",
     "text": [
      "<class 'list'>\n",
      "<class 'numpy.ndarray'>\n"
     ]
    }
   ],
   "source": [
    "import numpy as np\n",
    "\n",
    "height = [1.87,  1.87, 1.82, 1.91, 1.90, 1.85]\n",
    "weight = [81.65, 97.52, 95.25, 92.98, 86.18, 88.45]\n",
    "\n",
    "np_height = np.array(height)\n",
    "np_weight = np.array(weight)\n",
    "\n",
    "print(type(height))\n",
    "print(type(np_height))"
   ]
  },
  {
   "cell_type": "markdown",
   "metadata": {
    "id": "1bkogA8mLn75"
   },
   "source": [
    "In numpy, an *array* is a generic term for a multidimensional set of numbers."
   ]
  },
  {
   "cell_type": "markdown",
   "metadata": {
    "id": "208ovt-qLzRH"
   },
   "source": [
    "#### Element-wise calculations\n",
    "These operations are very fast and computationally efficient. They are particularly helpful when you have 1000s of observations in your data."
   ]
  },
  {
   "cell_type": "code",
   "execution_count": null,
   "metadata": {
    "id": "Oy45DqhbLhkB"
   },
   "outputs": [],
   "source": [
    "# Calculate bmi\n",
    "bmi = np_weight / np_height ** 2\n",
    "bmi"
   ]
  },
  {
   "cell_type": "markdown",
   "metadata": {
    "id": "AWBmW1NCMBBk"
   },
   "source": [
    "#### Subsetting\n",
    "Another great feature of Numpy arrays is the ability to subset."
   ]
  },
  {
   "cell_type": "code",
   "execution_count": null,
   "metadata": {
    "id": "vT2XZdKSL4Tu"
   },
   "outputs": [],
   "source": [
    "# For a boolean response\n",
    "print(bmi > 25)"
   ]
  },
  {
   "cell_type": "code",
   "execution_count": null,
   "metadata": {
    "id": "JEYq_80Zl1qS"
   },
   "outputs": [],
   "source": [
    "# Print only those observations above 23\n",
    "bmi[bmi > 23]"
   ]
  },
  {
   "cell_type": "markdown",
   "metadata": {
    "id": "_eSnkNUTMRip"
   },
   "source": [
    "#### Other Operations"
   ]
  },
  {
   "cell_type": "code",
   "execution_count": null,
   "metadata": {
    "id": "fecJcokBMEcx"
   },
   "outputs": [],
   "source": [
    "matrix = np.array( [ [1, 2, 3], [4, 5, 6], [7, 8, 9] ] )\n",
    "print(\"array:\\n\", matrix)\n",
    "print(\"shape:\", matrix.shape)\n",
    "print(\"number of dimensions:\", matrix.ndim)"
   ]
  },
  {
   "cell_type": "code",
   "execution_count": null,
   "metadata": {
    "id": "bTkNmd6_McXH"
   },
   "outputs": [],
   "source": [
    "np.zeros( (2,3) )"
   ]
  },
  {
   "cell_type": "code",
   "execution_count": null,
   "metadata": {
    "id": "AEG8atAESIyF"
   },
   "outputs": [],
   "source": [
    "np.ones( (2,3) )"
   ]
  },
  {
   "cell_type": "code",
   "execution_count": null,
   "metadata": {
    "id": "9GtWrWxISgqP"
   },
   "outputs": [],
   "source": [
    "eye = np.eye( 3 )\n",
    "print(eye)"
   ]
  },
  {
   "cell_type": "code",
   "execution_count": null,
   "metadata": {
    "id": "mSDGVoObSiJU"
   },
   "outputs": [],
   "source": [
    "matrix"
   ]
  },
  {
   "cell_type": "code",
   "execution_count": null,
   "metadata": {
    "id": "hk8d4ur9SmNz"
   },
   "outputs": [],
   "source": [
    "matrix * 2"
   ]
  },
  {
   "cell_type": "code",
   "execution_count": null,
   "metadata": {
    "id": "tkrCuUIYSoN0"
   },
   "outputs": [],
   "source": [
    "elementwise_product = matrix * matrix\n",
    "print(elementwise_product)"
   ]
  },
  {
   "cell_type": "code",
   "execution_count": null,
   "metadata": {
    "id": "dbsNfdjkSr5O"
   },
   "outputs": [],
   "source": [
    "matrix_mulitplication = matrix @ matrix\n",
    "print(matrix_mulitplication)"
   ]
  },
  {
   "cell_type": "code",
   "execution_count": null,
   "metadata": {
    "id": "dw_ybGVrTC8w"
   },
   "outputs": [],
   "source": [
    "matrix"
   ]
  },
  {
   "cell_type": "code",
   "execution_count": null,
   "metadata": {
    "id": "2zcIenOvTDsT"
   },
   "outputs": [],
   "source": [
    "matrix.transpose()"
   ]
  },
  {
   "cell_type": "code",
   "execution_count": null,
   "metadata": {
    "id": "ULPLe5wLTIg7"
   },
   "outputs": [],
   "source": [
    "matrix.min()"
   ]
  },
  {
   "cell_type": "code",
   "execution_count": null,
   "metadata": {
    "id": "D-yovO15TNnA"
   },
   "outputs": [],
   "source": [
    "matrix.max()"
   ]
  },
  {
   "cell_type": "code",
   "execution_count": null,
   "metadata": {
    "id": "z-iMn4FFTVWQ"
   },
   "outputs": [],
   "source": [
    "matrix.max(axis=0)"
   ]
  },
  {
   "cell_type": "code",
   "execution_count": null,
   "metadata": {
    "id": "V7kAbYLYTodm"
   },
   "outputs": [],
   "source": [
    "matrix.max(axis=1)"
   ]
  },
  {
   "cell_type": "code",
   "execution_count": null,
   "metadata": {
    "id": "DTUB0_rjTPEV"
   },
   "outputs": [],
   "source": [
    "matrix.sum()"
   ]
  },
  {
   "cell_type": "code",
   "execution_count": null,
   "metadata": {
    "id": "AJwDjibMTRUE"
   },
   "outputs": [],
   "source": [
    "matrix = np.array([[1, 2, 3],\n",
    "                  [4, 5, 6]])\n",
    "\n",
    "# Sum along axis 0 (vertically, along rows)\n",
    "sum_axis_0 = matrix.sum(axis=0)\n",
    "print(f\"Row-wise sum: {sum_axis_0}\")\n",
    "\n",
    "# Sum along axis 1 (horizontally, along columns)\n",
    "sum_axis_1 = matrix.sum(axis=1)\n",
    "print(f\"Column-wise sum: {sum_axis_1}\")\n",
    "\n",
    "overall_sum = matrix.sum()\n",
    "print(f\"Overall sum: {overall_sum}\")"
   ]
  },
  {
   "cell_type": "code",
   "execution_count": null,
   "metadata": {
    "id": "_9cBLyq0T72a"
   },
   "outputs": [],
   "source": [
    "x = np.array([1, 2, 3, 4, 5, 6])\n",
    "print('beginning x:\\n', x)\n",
    "x_reshape = x.reshape((2, 3))\n",
    "print('reshaped x:\\n', x_reshape)"
   ]
  },
  {
   "cell_type": "markdown",
   "metadata": {
    "id": "0YlPI1lZVJpp"
   },
   "source": [
    "Generating random data with NumPy"
   ]
  },
  {
   "cell_type": "markdown",
   "metadata": {
    "id": "ymUI3s1VVh93"
   },
   "source": [
    "The `np.random.normal()` function generates a vector of random normal variables."
   ]
  },
  {
   "cell_type": "code",
   "execution_count": null,
   "metadata": {
    "id": "j-uKhxTyUjQ_",
    "scrolled": true
   },
   "outputs": [],
   "source": [
    "np.random.normal?"
   ]
  },
  {
   "cell_type": "markdown",
   "metadata": {
    "id": "oLWhYPnOWMlk"
   },
   "source": [
    "By default, this function will generate random normal variable(s) with mean (`loc`)  0  and standard deviation (`scale`)  1 ; furthermore, a single random variable will be generated unless the argument to `size` is changed."
   ]
  },
  {
   "cell_type": "markdown",
   "metadata": {
    "id": "9VDSMyHYWWKX"
   },
   "source": [
    "We now generate 50 independent random variables from a $N(0,1)$ distribution."
   ]
  },
  {
   "cell_type": "code",
   "execution_count": null,
   "metadata": {
    "id": "-jiygPYwWSgR"
   },
   "outputs": [],
   "source": [
    "x = np.random.normal(size=50)\n",
    "x"
   ]
  },
  {
   "cell_type": "markdown",
   "metadata": {
    "id": "Xh29Ht9iWx-Y"
   },
   "source": [
    "Each time we call `np.random.normal()`, we will get a different answer, as shown in the following example."
   ]
  },
  {
   "cell_type": "code",
   "execution_count": null,
   "metadata": {
    "id": "aGP6BuMHWb7K"
   },
   "outputs": [],
   "source": [
    "print(np.random.normal(scale=5, size=2))\n",
    "print(np.random.normal(scale=5, size=2))"
   ]
  },
  {
   "cell_type": "markdown",
   "metadata": {
    "id": "FYBVUWi3YLkv"
   },
   "source": [
    "In order to ensure that our code provides exactly the same results\n",
    "each time it is run, we can set a *random seed*\n",
    "using the\n",
    "`np.random.default_rng()` function.\n",
    "This function takes an arbitrary, user-specified integer argument. If we set a random seed before\n",
    "generating random data, then re-running our code will yield the same results. The\n",
    "object `rng` has essentially all the random number generating methods found in `np.random`. Hence, to\n",
    "generate normal data we use `rng.normal()`."
   ]
  },
  {
   "cell_type": "code",
   "execution_count": null,
   "metadata": {
    "id": "fVHf3mAjmaqk"
   },
   "outputs": [],
   "source": [
    "np.random.default_rng?"
   ]
  },
  {
   "cell_type": "code",
   "execution_count": null,
   "metadata": {
    "id": "TLWyJ4MHW3Td"
   },
   "outputs": [],
   "source": [
    "rng = np.random.default_rng(42)\n",
    "print(rng.normal(scale=5, size=2))\n",
    "rng2 = np.random.default_rng(42)\n",
    "print(rng2.normal(scale=5, size=2))"
   ]
  },
  {
   "cell_type": "code",
   "execution_count": null,
   "metadata": {
    "id": "DAu4W2sJYWbm"
   },
   "outputs": [],
   "source": [
    "rng = np.random.default_rng(42)\n",
    "X = rng.standard_normal((5, 3))\n",
    "X"
   ]
  },
  {
   "cell_type": "code",
   "execution_count": null,
   "metadata": {
    "id": "dCyJJh_ZYj5O"
   },
   "outputs": [],
   "source": [
    "X.mean(axis=0)"
   ]
  },
  {
   "cell_type": "code",
   "execution_count": null,
   "metadata": {
    "id": "SaT7_n1rYnPU"
   },
   "outputs": [],
   "source": [
    "X.var(axis=1)"
   ]
  },
  {
   "cell_type": "markdown",
   "metadata": {
    "id": "qXwn1ghgadg7"
   },
   "source": [
    "### Pandas\n",
    "\n",
    "Pandas is another Python library which offers a powerful way to work with more efficient data structures and allows for advanced data manipulation and analysis.\n",
    "\n",
    "The main data structure that Pandas works with is called a **Data Frame**.  This is a two-dimensional table of data in which the rows typically represent cases, and the columns represent variables.  Pandas also has a one-dimensional data structure called a **Series** that we will encounter when accesing a single column of a Data Frame."
   ]
  },
  {
   "cell_type": "code",
   "execution_count": null,
   "metadata": {
    "id": "6MUMgNWOaeig"
   },
   "outputs": [],
   "source": [
    "country_dict = {\"country\": [\"Brazil\", \"Russia\", \"India\", \"China\", \"South Africa\"],\n",
    "       \"capital\": [\"Brasilia\", \"Moscow\", \"New Dehli\", \"Beijing\", \"Pretoria\"],\n",
    "       \"area\": [8.516, 17.10, 3.286, 9.597, 1.221],\n",
    "       \"population\": [200.4, 143.5, 1252, 1357, 52.98] }\n",
    "\n",
    "import pandas as pd\n",
    "brics = pd.DataFrame(country_dict)\n",
    "brics"
   ]
  },
  {
   "cell_type": "code",
   "execution_count": null,
   "metadata": {
    "id": "_dImbS1vapAQ"
   },
   "outputs": [],
   "source": [
    "brics.columns"
   ]
  },
  {
   "cell_type": "code",
   "execution_count": null,
   "metadata": {
    "id": "wLdrPr4HarVg"
   },
   "outputs": [],
   "source": [
    "matrix = np.array([[1, 2, 3], [4, 5, 6], [7, 8, 9]])\n",
    "matrix_df = pd.DataFrame(matrix, columns = ['col1','col2','col3'],\n",
    "                         index = ['row1','row2','row3'])\n",
    "\n",
    "matrix_df"
   ]
  },
  {
   "cell_type": "markdown",
   "metadata": {
    "id": "ZwZ6IFxJayNp"
   },
   "source": [
    "Lets say we would like to slice our data frame and select only specific portions of our data."
   ]
  },
  {
   "cell_type": "code",
   "execution_count": null,
   "metadata": {
    "id": "vgvl6YQkatjP"
   },
   "outputs": [],
   "source": [
    "brics"
   ]
  },
  {
   "cell_type": "markdown",
   "metadata": {
    "id": "GFdm_4eIa2rf"
   },
   "source": [
    "#### Accessing Columns\n",
    "To access a specific column in a Pandas DataFrame, you can use indexing with square brackets or dot notation."
   ]
  },
  {
   "cell_type": "code",
   "execution_count": null,
   "metadata": {
    "id": "QA8_qzBYazsX"
   },
   "outputs": [],
   "source": [
    "# Using square brackets to access a column\n",
    "brics_countries = brics['country']\n",
    "brics_countries"
   ]
  },
  {
   "cell_type": "code",
   "execution_count": null,
   "metadata": {
    "id": "zVBbb0d7a5Nl"
   },
   "outputs": [],
   "source": [
    "print(type(brics))\n",
    "print(type(brics_countries))"
   ]
  },
  {
   "cell_type": "code",
   "execution_count": null,
   "metadata": {
    "id": "g_Qn6ME5a9is"
   },
   "outputs": [],
   "source": [
    "# Using dot notation to access a column\n",
    "brics_capitals = brics.capital\n",
    "brics_capitals"
   ]
  },
  {
   "cell_type": "markdown",
   "metadata": {
    "id": "JgVB2BZXbhJa"
   },
   "source": [
    "#### Accessing Rows\n",
    "\n",
    "You can use the `.loc[]` or `.iloc[]` indexer to access specific rows by their labels or integer positions, respectively."
   ]
  },
  {
   "cell_type": "code",
   "execution_count": null,
   "metadata": {
    "id": "tmLNPohCbeI_"
   },
   "outputs": [],
   "source": [
    "matrix_df"
   ]
  },
  {
   "cell_type": "code",
   "execution_count": null,
   "metadata": {
    "id": "104o5EZ9bkGs"
   },
   "outputs": [],
   "source": [
    "# Using .loc[] to access a row by label - label-based indexing.\n",
    "row1 = matrix_df.loc['row1']\n",
    "print(row1)\n",
    "print()\n",
    "# Using .iloc[] to access a row by integer position positional indexing.\n",
    "row2 = matrix_df.iloc[1]\n",
    "print(row2)"
   ]
  },
  {
   "cell_type": "markdown",
   "metadata": {
    "id": "58xCkcHXcGoe"
   },
   "source": [
    "#### Accessing Specific Cells\n",
    "To access a specific cell, you can combine row and column selection using `.loc[]` or `.iloc[]`."
   ]
  },
  {
   "cell_type": "code",
   "execution_count": null,
   "metadata": {
    "id": "hIHIRlY_bmX3"
   },
   "outputs": [],
   "source": [
    "matrix_df"
   ]
  },
  {
   "cell_type": "code",
   "execution_count": null,
   "metadata": {
    "id": "o1vnTpjAcII2"
   },
   "outputs": [],
   "source": [
    "# Using .loc[] to access a specific cell by label\n",
    "cell1 = matrix_df.loc['row1', 'col1']\n",
    "cell1"
   ]
  },
  {
   "cell_type": "code",
   "execution_count": null,
   "metadata": {
    "id": "CUNnPGAucJw-"
   },
   "outputs": [],
   "source": [
    "# Using .iloc[] to access a specific cell by integer position\n",
    "cell1 = matrix_df.iloc[0, 0]\n",
    "cell1"
   ]
  },
  {
   "cell_type": "markdown",
   "metadata": {
    "id": "lkNl8tUPcQcP"
   },
   "source": [
    "#### Filtering Data\n",
    "You can filter the DataFrame based on specific conditions using boolean indexing."
   ]
  },
  {
   "cell_type": "code",
   "execution_count": null,
   "metadata": {
    "id": "U6B3L34mcNQl"
   },
   "outputs": [],
   "source": [
    "brics"
   ]
  },
  {
   "cell_type": "code",
   "execution_count": null,
   "metadata": {
    "id": "FJZ3ZpnbcTcS"
   },
   "outputs": [],
   "source": [
    "# Filtering rows where population is greater than 200\n",
    "brics[brics['population'] > 200.0]"
   ]
  },
  {
   "cell_type": "markdown",
   "metadata": {
    "id": "-JcnWr0ScY_8"
   },
   "source": [
    "Pandas has a variety of functions named '`read_xxx`' for reading data in different formats.  Right now we will focus on reading '`csv`' files, which stands for comma-separated values."
   ]
  },
  {
   "cell_type": "code",
   "execution_count": null,
   "metadata": {
    "id": "yhbeGML4cVtU"
   },
   "outputs": [],
   "source": [
    "# Dataset source:www.statlearning.com/resources-python\n",
    "Auto = pd.read_csv('Auto.csv')\n",
    "# The head() method shows the first 5 rows (by default) of our Data Frame.\n",
    "Auto.head()"
   ]
  },
  {
   "cell_type": "code",
   "execution_count": null,
   "metadata": {
    "id": "XcmHBiKsgqTw"
   },
   "outputs": [],
   "source": [
    "Auto.shape"
   ]
  },
  {
   "cell_type": "code",
   "execution_count": null,
   "metadata": {
    "id": "JgNVE2Fzizmr"
   },
   "outputs": [],
   "source": [
    "Auto.dtypes"
   ]
  },
  {
   "cell_type": "code",
   "execution_count": null,
   "metadata": {
    "id": "70ZuRvHbhWlo"
   },
   "outputs": [],
   "source": [
    "Auto['horsepower']"
   ]
  },
  {
   "cell_type": "markdown",
   "metadata": {
    "id": "qkFHrv4YhsrR"
   },
   "source": [
    "We see that the `dtype` of this column is `object`.\n",
    " - All values of the `horsepower` column are being interpreted as strings when reading in the data.\n",
    "\n",
    "We can find out why by looking at the unique values."
   ]
  },
  {
   "cell_type": "code",
   "execution_count": null,
   "metadata": {
    "id": "KQcfrWWBh65o"
   },
   "outputs": [],
   "source": [
    "Auto['horsepower'].unique()"
   ]
  },
  {
   "cell_type": "markdown",
   "metadata": {
    "id": "Qf4ScnW-iLeR"
   },
   "source": [
    "To fix the problem, we must provide `pd.read_csv()` with an argument called `na_values`.\n",
    "Now,  each instance of  `?` in the file is replaced with the\n",
    "value `np.nan`, which means *not a number*:"
   ]
  },
  {
   "cell_type": "code",
   "execution_count": null,
   "metadata": {
    "id": "9i6NRyZwiVkl"
   },
   "outputs": [],
   "source": [
    "Auto = pd.read_csv('Auto.csv',\n",
    "                   na_values=['?'])\n",
    "Auto['horsepower'].sum()"
   ]
  },
  {
   "cell_type": "markdown",
   "metadata": {
    "id": "ajousW6cjBQK"
   },
   "source": [
    "Dealing with missing values"
   ]
  },
  {
   "cell_type": "code",
   "execution_count": null,
   "metadata": {
    "id": "h3F8_pe2jDbk"
   },
   "outputs": [],
   "source": [
    "Auto.isna().sum(axis=0)"
   ]
  },
  {
   "cell_type": "markdown",
   "metadata": {
    "id": "GKa94PWEjUIt"
   },
   "source": [
    "There are various ways to deal with missing data. For now, since only five of the rows contain missing observations, we'll simply remove these rows."
   ]
  },
  {
   "cell_type": "code",
   "execution_count": null,
   "metadata": {
    "id": "AnM7hetojgoK"
   },
   "outputs": [],
   "source": [
    "Auto.shape"
   ]
  },
  {
   "cell_type": "code",
   "execution_count": null,
   "metadata": {
    "id": "WYXE1iNFjalE"
   },
   "outputs": [],
   "source": [
    "Auto_new = Auto.dropna()\n",
    "Auto_new.shape"
   ]
  },
  {
   "cell_type": "code",
   "execution_count": null,
   "metadata": {
    "id": "xVZ0nKW6jkr_"
   },
   "outputs": [],
   "source": [
    "Auto_new.isna().sum(axis=0)"
   ]
  },
  {
   "cell_type": "code",
   "execution_count": null,
   "metadata": {
    "id": "bqVqmzQdjw-h"
   },
   "outputs": [],
   "source": [
    "Auto_new = Auto_new.set_index('name')\n",
    "Auto_new\n"
   ]
  },
  {
   "cell_type": "code",
   "execution_count": null,
   "metadata": {
    "id": "JJYe7U9Lj1AZ"
   },
   "outputs": [],
   "source": [
    "stats = Auto_new.describe()\n",
    "stats"
   ]
  },
  {
   "cell_type": "markdown",
   "metadata": {
    "id": "HSLsOBw8lMyM"
   },
   "source": [
    "Sorting the dataset by a column"
   ]
  },
  {
   "cell_type": "code",
   "execution_count": null,
   "metadata": {
    "id": "qrE5MYIckg7d"
   },
   "outputs": [],
   "source": [
    "Auto_new.sort_values(by=['horsepower', 'acceleration'], ascending=False).head()"
   ]
  },
  {
   "cell_type": "markdown",
   "metadata": {
    "id": "bhsy9a1al_m-"
   },
   "source": [
    "## Data Visulaization"
   ]
  },
  {
   "cell_type": "markdown",
   "metadata": {
    "id": "gUlnoF2PmCHA"
   },
   "source": [
    "### Matplotlib\n",
    "Matplotlib is a powerful library for creating a wide range of visualizations, including line plots, bar charts, scatter plots, histograms, and more."
   ]
  },
  {
   "cell_type": "code",
   "execution_count": 10,
   "metadata": {
    "id": "-kFuDERKlX3Q"
   },
   "outputs": [],
   "source": [
    "import matplotlib.pyplot as plt"
   ]
  },
  {
   "cell_type": "code",
   "execution_count": null,
   "metadata": {
    "id": "4TNRWCiQmEWe"
   },
   "outputs": [],
   "source": [
    "# instructs IPython to display Matplotlib plots directly within the notebook\n",
    "%matplotlib inline"
   ]
  },
  {
   "cell_type": "code",
   "execution_count": null,
   "metadata": {
    "id": "Vdz6P4FAq11d"
   },
   "outputs": [],
   "source": [
    "# use fivethirtyeight style\n",
    "plt.style.use('fivethirtyeight')"
   ]
  },
  {
   "cell_type": "code",
   "execution_count": null,
   "metadata": {
    "id": "sTtNVVPSmF0j"
   },
   "outputs": [],
   "source": [
    "x = [1, 2, 3, 4, 5]\n",
    "y = [10, 15, 13, 18, 20]\n",
    "plt.plot(x, y)\n",
    "plt.xlabel('X-axis')\n",
    "plt.ylabel('Y-axis')\n",
    "plt.title('Simple Line Plot')"
   ]
  },
  {
   "cell_type": "code",
   "execution_count": null,
   "metadata": {
    "id": "NgS3QjxZmHxw"
   },
   "outputs": [],
   "source": [
    "x = [1,2,3,4,5,6,7,8]\n",
    "y = [1,4,9,16,25,36,49,64]\n",
    "z = [-64,-27,-8,-1,0,1,8,27]\n",
    "\n",
    "plt.plot(x, y, label = r'$x^2$', marker = 'o', color='black')\n",
    "plt.plot(x, z, label = r'$(x-5)^3$', marker = 'X', color='red')\n",
    "\n",
    "plt.xlabel('x values')\n",
    "plt.ylabel('y values')\n",
    "\n",
    "plt.title('Example Title')\n",
    "\n",
    "plt.legend()\n",
    "\n",
    "plt.grid()"
   ]
  },
  {
   "cell_type": "code",
   "execution_count": null,
   "metadata": {
    "id": "voH8RK97mLY7"
   },
   "outputs": [],
   "source": [
    "categories = ['A', 'B', 'C', 'D', 'E']\n",
    "values = [30, 45, 55, 20, 60]\n",
    "plt.bar(categories, values)\n",
    "plt.xlabel('Categories')\n",
    "plt.ylabel('Values')\n",
    "plt.title('Bar Chart')\n",
    "plt.show()"
   ]
  },
  {
   "cell_type": "markdown",
   "metadata": {},
   "source": [
    "### Exporting Plots from matplotlib"
   ]
  },
  {
   "cell_type": "markdown",
   "metadata": {
    "id": "kf9JI2tkmpoG"
   },
   "source": [
    "### Creating Multiplots on Same Canvas"
   ]
  },
  {
   "cell_type": "code",
   "execution_count": null,
   "metadata": {
    "id": "2kNr1Ru2n9nK"
   },
   "outputs": [],
   "source": [
    "# plt.subplot(nrows, ncols, plot_number)\n",
    "## create a single subplot at a specific location within a grid\n",
    "import numpy as np\n",
    "plt.subplot(1,2,1)\n",
    "x = np.linspace(0, 5, 11)\n",
    "y = x ** 2\n",
    "plt.plot(x, y, 'r--')\n",
    "plt.subplot(1,2,2)\n",
    "plt.plot(y, x, 'g*-')"
   ]
  },
  {
   "cell_type": "code",
   "execution_count": null,
   "metadata": {
    "id": "YJvPTtHLmkIG"
   },
   "outputs": [],
   "source": [
    "# Use similar to plt.figure() except use tuple unpacking to grab fig and axes objects\n",
    "fig, axes = plt.subplots()\n",
    "x = np.linspace(0, 5, 11)\n",
    "y = x ** 2\n",
    "z = x ** 3\n",
    "m = x ** 4\n",
    "# Now use the axes object to add stuff to plot\n",
    "axes.plot(x, y, 'r')\n",
    "axes.plot(x, z, 'b')\n",
    "axes.plot(x, m, 'g')\n",
    "axes.set_xlabel('x-sxis')\n",
    "axes.set_ylabel('y-axis')\n",
    "axes.set_title('title');"
   ]
  },
  {
   "cell_type": "code",
   "execution_count": null,
   "metadata": {
    "id": "sZ4U8iENokIg"
   },
   "outputs": [],
   "source": [
    "np.random.randint?"
   ]
  },
  {
   "cell_type": "code",
   "execution_count": null,
   "metadata": {
    "id": "ikOW5YIHocu7"
   },
   "outputs": [],
   "source": [
    "# Generate random data\n",
    "x = np.random.randint(1, 100, 20)\n",
    "y = np.random.randint(50, 100, 20)\n",
    "\n",
    "# Create a scatter plot with customizations\n",
    "plt.scatter(x, y, c='blue', marker='o', edgecolors='black', s=100, alpha=0.7)\n",
    "plt.xlabel('X-axis')\n",
    "plt.ylabel('Y-axis')\n",
    "plt.title('Scatter Plot')"
   ]
  },
  {
   "cell_type": "code",
   "execution_count": null,
   "metadata": {
    "id": "05KP8GjyodtH"
   },
   "outputs": [],
   "source": [
    "rand_data = np.random.randn(50)\n",
    "plt.hist(rand_data, bins=20);"
   ]
  },
  {
   "cell_type": "code",
   "execution_count": null,
   "metadata": {
    "id": "q-lsO91gosjR"
   },
   "outputs": [],
   "source": [
    "data = [np.random.normal(0, std, 100) for std in range(1, 4)]\n",
    "\n",
    "# rectangular box plot\n",
    "plt.boxplot(data,vert=True,patch_artist=True);"
   ]
  },
  {
   "cell_type": "markdown",
   "metadata": {
    "id": "K_-rEpAmplYT"
   },
   "source": [
    "Using Pandas built-in plotting functionality"
   ]
  },
  {
   "cell_type": "code",
   "execution_count": null,
   "metadata": {
    "id": "DbiWNiutrhd8"
   },
   "outputs": [],
   "source": [
    "Auto.plot.scatter?"
   ]
  },
  {
   "cell_type": "code",
   "execution_count": null,
   "metadata": {
    "id": "DDbF0gSEo6Sa"
   },
   "outputs": [],
   "source": [
    "ax = Auto.plot.scatter('horsepower', 'mpg')\n",
    "ax.set_title('Horsepower vs. MPG');"
   ]
  },
  {
   "cell_type": "code",
   "execution_count": null,
   "metadata": {
    "id": "OeRVUlbGrZiz"
   },
   "outputs": [],
   "source": [
    "Auto.boxplot?"
   ]
  },
  {
   "cell_type": "code",
   "execution_count": null,
   "metadata": {
    "id": "wRiR33aYqFNO"
   },
   "outputs": [],
   "source": [
    "fig, ax = plt.subplots(figsize=(8,8))\n",
    "Auto.boxplot('mpg', by='cylinders', ax=ax,)"
   ]
  },
  {
   "cell_type": "code",
   "execution_count": null,
   "metadata": {
    "id": "QJZ-EdsDqgyJ"
   },
   "outputs": [],
   "source": [
    "fig, ax = plt.subplots(figsize=(8, 8))\n",
    "Auto.hist('mpg', ax=ax);"
   ]
  },
  {
   "cell_type": "markdown",
   "metadata": {
    "id": "qwgrtcP_RXIG"
   },
   "source": [
    "# Simple Linear Regression"
   ]
  },
  {
   "cell_type": "code",
   "execution_count": 15,
   "metadata": {
    "id": "0wQzXDiTRWeo"
   },
   "outputs": [
    {
     "name": "stderr",
     "output_type": "stream",
     "text": [
      "/home/hai/miniconda3/lib/python3.12/site-packages/sklearn/utils/validation.py:1408: DataConversionWarning: A column-vector y was passed when a 1d array was expected. Please change the shape of y to (n_samples, ), for example using ravel().\n",
      "  y = column_or_1d(y, warn=True)\n"
     ]
    },
    {
     "name": "stdout",
     "output_type": "stream",
     "text": [
      "Mean Squared Error: 0.65\n",
      "R² Score: 0.81\n",
      "Mean Squared Error: 2.22\n",
      "R² Score: 0.34\n",
      "Model Coefficients: 2.80\n",
      "Model Intercept: 4.14\n"
     ]
    },
    {
     "data": {
      "image/png": "[encoded data removed]",
      "text/plain": [
       "<Figure size 640x480 with 1 Axes>"
      ]
     },
     "metadata": {},
     "output_type": "display_data"
    }
   ],
   "source": [
    "from sklearn.model_selection import train_test_split\n",
    "from sklearn.linear_model import LinearRegression, GammaRegressor\n",
    "from sklearn.metrics import mean_squared_error, r2_score\n",
    "\n",
    "np.random.seed(42)\n",
    "X = 2 * np.random.rand(100, 1)\n",
    "y = 4 + 3 * X + np.random.randn(100, 1)\n",
    "\n",
    "X_train, X_test, y_train, y_test = train_test_split(X, y, test_size=0.2, random_state=42)\n",
    "\n",
    "# Create a Linear Regression model\n",
    "model = LinearRegression()\n",
    "model1 = GammaRegressor()\n",
    "\n",
    "# Train the model on the training data\n",
    "model.fit(X_train, y_train)\n",
    "model1.fit(X_train, y_train)\n",
    "\n",
    "# Make predictions on the test data\n",
    "y_pred = model.predict(X_test)\n",
    "y_pred1 = model1.predict(X_test)\n",
    "\n",
    "\n",
    "# Evaluate the model\n",
    "mse = mean_squared_error(y_test, y_pred)\n",
    "r2 = r2_score(y_test, y_pred)\n",
    "\n",
    "mse1 = mean_squared_error(y_test, y_pred1)\n",
    "r21 = r2_score(y_test, y_pred1)\n",
    "\n",
    "\n",
    "print(f\"Mean Squared Error: {mse:.2f}\")\n",
    "print(f\"R² Score: {r2:.2f}\")\n",
    "print(f\"Mean Squared Error: {mse1:.2f}\")\n",
    "print(f\"R² Score: {r21:.2f}\")\n",
    "print(f\"Model Coefficients: {model.coef_[0][0]:.2f}\")\n",
    "print(f\"Model Intercept: {model.intercept_[0]:.2f}\")\n",
    "\n",
    "# Plot the results\n",
    "plt.scatter(X, y, color=\"blue\", label=\"Data\")\n",
    "plt.plot(X_test, y_pred, color=\"red\", label=\"Prediction\")\n",
    "plt.plot(X_test, y_pred1, color=\"orange\", label=\"Prediction (Gamma)\")\n",
    "plt.xlabel(\"Independent Variable (X)\")\n",
    "plt.ylabel(\"Dependent Variable (y)\")\n",
    "plt.legend()\n",
    "plt.title(\"Simple Linear Regression\")\n",
    "plt.show()\n"
   ]
  },
  {
   "cell_type": "markdown",
   "metadata": {
    "id": "0o8ocz-esoJg"
   },
   "source": [
    "# References and Further Readings (Resources)\n",
    "\n",
    "* [Gipp Lab's Python Couse](https://gipplab.atlassian.net/wiki/spaces/STUD/pages/1682964532/Python+Course)\n",
    "* [An Introduction to Statistical Learning (Python)](https://intro-stat-learning.github.io/ISLP/labs/Ch02-statlearn-lab.html)\n",
    "* https://www.pythontutorial.net/\n",
    "* http://www.matplotlib.org - The project web page for matplotlib.\n",
    "* https://github.com/matplotlib/matplotlib - The source code for matplotlib.\n",
    "* http://matplotlib.org/gallery.html - A large gallery showcaseing various types of plots matplotlib can create. Highly recommended!\n",
    "* http://www.loria.fr/~rougier/teaching/matplotlib - A good matplotlib tutorial.\n",
    "* https://github.com/samarinm/pythonCC/tree/main\n",
    "* http://scipy-lectures.github.io/matplotlib/matplotlib.html - Another good matplotlib reference.\n",
    "* [Seaborn](https://seaborn.pydata.org/tutorial.html)\n",
    "* [Kaggle courses on Pandas and Data Visualization](https://www.kaggle.com/learn)\n"
   ]
  },
  {
   "cell_type": "code",
   "execution_count": null,
   "metadata": {},
   "outputs": [],
   "source": []
  }
 ],
 "metadata": {
  "colab": {
   "provenance": []
  },
  "kernelspec": {
   "display_name": "Python 3 (ipykernel)",
   "language": "python",
   "name": "python3"
  },
  "language_info": {
   "codemirror_mode": {
    "name": "ipython",
    "version": 3
   },
   "file_extension": ".py",
   "mimetype": "text/x-python",
   "name": "python",
   "nbconvert_exporter": "python",
   "pygments_lexer": "ipython3",
   "version": "3.12.2"
  }
 },
 "nbformat": 4,
 "nbformat_minor": 4
}
